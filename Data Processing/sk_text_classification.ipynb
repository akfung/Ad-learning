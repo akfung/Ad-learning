{
 "cells": [
  {
   "cell_type": "code",
   "execution_count": 1,
   "metadata": {},
   "outputs": [],
   "source": [
    "#Dependencies\n",
    "import os\n",
    "import csv\n",
    "import pandas as pd\n",
    "import numpy as np\n",
    "import matplotlib.pyplot as plt\n",
    "import seaborn as sns\n",
    "\n",
    "import nltk\n",
    "from nltk.corpus import stopwords\n",
    "nltk.download('stopwords')\n",
    "from nltk.stem.snowball import SnowballStemmer\n",
    "import re\n",
    "\n",
    "import sys\n",
    "import warnings\n",
    "\n",
    "if not sys.warnoptions:\n",
    "    warnings.simplefilter(\"ignore\")"
   ]
  },
  {
   "cell_type": "code",
   "execution_count": 139,
   "metadata": {},
   "outputs": [],
   "source": [
    "#read training csv file from dataset\n",
    "data_path = os.path.join('..', '..', 'jigsaw-unintended-bias-in-toxicity-classification', 'train.csv')\n",
    "data_raw = pd.read_csv(data_path).dropna()"
   ]
  },
  {
   "cell_type": "code",
   "execution_count": 161,
   "metadata": {},
   "outputs": [
    {
     "output_type": "execute_result",
     "data": {
      "text/plain": "array([0.00000000e+00, 1.00000000e+00, 3.00000000e-01, 5.00000000e-01,\n       1.66666667e-01, 1.00000000e-01, 2.00000000e-01, 4.00000000e-01,\n       3.80021716e-03, 8.00000000e-01, 7.00000000e-01, 1.10497238e-02,\n       8.33333333e-01, 9.00000000e-01, 2.50000000e-01, 5.52181115e-04,\n       7.50000000e-01, 6.00000000e-01, 1.08342362e-03, 6.32111252e-04,\n       5.63697858e-04, 1.11111111e-01, 5.44069641e-04, 2.22222222e-01,\n       5.45256270e-04, 9.68000000e-01, 3.33333333e-01, 5.46746856e-04,\n       6.66666667e-01, 8.88888889e-01, 9.87694301e-01, 1.25000000e-01,\n       1.10680686e-03, 3.86847195e-03, 6.42260758e-04, 2.38095238e-02,\n       1.11856823e-03, 3.21336761e-03, 3.77155172e-03, 9.88188976e-01,\n       5.45454545e-01, 6.47249191e-04, 7.16145833e-03, 1.81818182e-01,\n       8.17661488e-04, 6.46412411e-04, 8.57142857e-01, 1.10375276e-03,\n       1.42857143e-01, 9.41023979e-01, 6.45161290e-04, 5.57724484e-04,\n       9.34227331e-01, 6.43915003e-04, 5.56792873e-04, 5.55555556e-01,\n       6.44329897e-04, 2.72727273e-01, 1.61637931e-03, 5.57103064e-04,\n       4.54545455e-01, 9.09090909e-02, 3.63636364e-01, 5.44365814e-04,\n       6.33713561e-04, 5.48546352e-03, 7.84313725e-04, 3.24464633e-03,\n       9.75322490e-01, 9.49600000e-01, 5.47645126e-04, 8.96512936e-01,\n       1.10253583e-03, 1.10132159e-03, 1.10987791e-03, 9.51002227e-01,\n       5.59597090e-04, 1.89274448e-03, 5.41711809e-04, 9.56019791e-01,\n       5.65930956e-04, 5.48847420e-04, 1.11982083e-03, 5.47945205e-04])"
     },
     "metadata": {},
     "execution_count": 161
    }
   ],
   "source": [
    "data_raw['asian'].unique()"
   ]
  },
  {
   "cell_type": "code",
   "execution_count": 164,
   "metadata": {},
   "outputs": [],
   "source": [
    "# create list of categories to reference\n",
    "categories = list(data_raw.columns.values)\n",
    "categories = categories[3:32]\n",
    "\n",
    "# select 2000 random entries from dataset\n",
    "data = data_raw\n",
    "data = data_raw.loc[np.random.choice(data_raw.index, size=2000)]\n",
    "\n"
   ]
  },
  {
   "cell_type": "code",
   "execution_count": 165,
   "metadata": {},
   "outputs": [],
   "source": [
    "def cleanHtml(sentence): #regex to clean punctuation\n",
    "    cleanr = re.compile('<.*?>')\n",
    "    cleantext = re.sub(cleanr, ' ', str(sentence))\n",
    "    return cleantext\n",
    "\n",
    "\n",
    "def cleanPunc(sentence): #function to clean the word of any punctuation or special characters\n",
    "    cleaned = re.sub(r'[?|!|\\'|\"|#]',r'',sentence)\n",
    "    cleaned = re.sub(r'[.|,|)|(|\\|/]',r' ',cleaned)\n",
    "    cleaned = cleaned.strip()\n",
    "    cleaned = cleaned.replace(\"\\n\",\" \")\n",
    "    return cleaned\n",
    "\n",
    "\n",
    "def keepAlpha(sentence): #function to remove numbers\n",
    "    alpha_sent = \"\"\n",
    "    for word in sentence.split():\n",
    "        alpha_word = re.sub('[^a-z A-Z]+', ' ', word)\n",
    "        alpha_sent += alpha_word\n",
    "        alpha_sent += \" \"\n",
    "    alpha_sent = alpha_sent.strip()\n",
    "    return alpha_sent\n",
    "\n",
    "# stem data to combine words with similar meanings\n",
    "stemmer = SnowballStemmer(\"english\")\n",
    "def stemming(sentence):\n",
    "    stemSentence = \"\"\n",
    "    for word in sentence.split():\n",
    "        stem = stemmer.stem(word)\n",
    "        stemSentence += stem\n",
    "        stemSentence += \" \"\n",
    "    stemSentence = stemSentence.strip()\n",
    "    return stemSentence\n",
    "\n",
    "#update list of stopwords from nltk\n",
    "stop_words = set(stopwords.words('english'))\n",
    "stop_words.update(['zero','one','two','three','four','five','six','seven','eight','nine','ten','may','also','across','among','beside','however','yet','within'])\n",
    "re_stop_words = re.compile(r\"\\b(\" + \"|\".join(stop_words) + \")\\\\W\", re.I)\n",
    "#function to remove stop words\n",
    "def removeStopWords(sentence):\n",
    "    global re_stop_words\n",
    "    return re_stop_words.sub(\" \", sentence)\n",
    "\n",
    "#function to make labels 0 if under 0.5, 1 if over 0.5\n",
    "def binaryLabel(label):\n",
    "    if label >= 0.5:\n",
    "        return 1\n",
    "    return 0"
   ]
  },
  {
   "cell_type": "code",
   "execution_count": 163,
   "metadata": {},
   "outputs": [
    {
     "output_type": "stream",
     "name": "stdout",
     "text": "(2000, 45)\n"
    },
    {
     "output_type": "execute_result",
     "data": {
      "text/html": "<div>\n<style scoped>\n    .dataframe tbody tr th:only-of-type {\n        vertical-align: middle;\n    }\n\n    .dataframe tbody tr th {\n        vertical-align: top;\n    }\n\n    .dataframe thead th {\n        text-align: right;\n    }\n</style>\n<table border=\"1\" class=\"dataframe\">\n  <thead>\n    <tr style=\"text-align: right;\">\n      <th></th>\n      <th>severe_toxicity</th>\n      <th>obscene</th>\n      <th>identity_attack</th>\n      <th>insult</th>\n    </tr>\n  </thead>\n  <tbody>\n    <tr>\n      <th>536221</th>\n      <td>0.000000</td>\n      <td>0.000000</td>\n      <td>0.000000</td>\n      <td>0.000000</td>\n    </tr>\n    <tr>\n      <th>346710</th>\n      <td>0.000000</td>\n      <td>0.000000</td>\n      <td>0.000000</td>\n      <td>0.000000</td>\n    </tr>\n    <tr>\n      <th>1438911</th>\n      <td>0.000000</td>\n      <td>0.000000</td>\n      <td>0.000000</td>\n      <td>0.000000</td>\n    </tr>\n    <tr>\n      <th>276488</th>\n      <td>0.041667</td>\n      <td>0.055556</td>\n      <td>0.208333</td>\n      <td>0.722222</td>\n    </tr>\n    <tr>\n      <th>1442163</th>\n      <td>0.000000</td>\n      <td>0.000000</td>\n      <td>0.000000</td>\n      <td>0.000000</td>\n    </tr>\n    <tr>\n      <th>...</th>\n      <td>...</td>\n      <td>...</td>\n      <td>...</td>\n      <td>...</td>\n    </tr>\n    <tr>\n      <th>707853</th>\n      <td>0.000000</td>\n      <td>0.000000</td>\n      <td>0.100000</td>\n      <td>0.100000</td>\n    </tr>\n    <tr>\n      <th>21620</th>\n      <td>0.000000</td>\n      <td>0.000000</td>\n      <td>0.000000</td>\n      <td>0.166667</td>\n    </tr>\n    <tr>\n      <th>352551</th>\n      <td>0.000000</td>\n      <td>0.000000</td>\n      <td>0.000000</td>\n      <td>0.000000</td>\n    </tr>\n    <tr>\n      <th>318403</th>\n      <td>0.012500</td>\n      <td>0.037500</td>\n      <td>0.037500</td>\n      <td>0.162500</td>\n    </tr>\n    <tr>\n      <th>1283994</th>\n      <td>0.000000</td>\n      <td>0.000000</td>\n      <td>0.000000</td>\n      <td>0.000000</td>\n    </tr>\n  </tbody>\n</table>\n<p>2000 rows × 4 columns</p>\n</div>",
      "text/plain": "         severe_toxicity   obscene  identity_attack    insult\n536221          0.000000  0.000000         0.000000  0.000000\n346710          0.000000  0.000000         0.000000  0.000000\n1438911         0.000000  0.000000         0.000000  0.000000\n276488          0.041667  0.055556         0.208333  0.722222\n1442163         0.000000  0.000000         0.000000  0.000000\n...                  ...       ...              ...       ...\n707853          0.000000  0.000000         0.100000  0.100000\n21620           0.000000  0.000000         0.000000  0.166667\n352551          0.000000  0.000000         0.000000  0.000000\n318403          0.012500  0.037500         0.037500  0.162500\n1283994         0.000000  0.000000         0.000000  0.000000\n\n[2000 rows x 4 columns]"
     },
     "metadata": {},
     "execution_count": 163
    }
   ],
   "source": [
    "#apply cleaning functions to comment text\n",
    "data['comment_text'] = data['comment_text'].str.lower()\n",
    "data['comment_text'] = data['comment_text'].apply(cleanHtml)\n",
    "data['comment_text'] = data['comment_text'].apply(cleanPunc)\n",
    "data['comment_text'] = data['comment_text'].apply(keepAlpha)\n",
    "data['comment_text'] = data['comment_text'].apply(stemming)\n",
    "data['comment_text'] = data['comment_text'].apply(removeStopWords)\n",
    "print(data.shape)\n",
    "\n",
    "#convert ratings to binary labels\n",
    "for category in categories:\n",
    "    data[category] = data[category].map(binaryLabel)"
   ]
  },
  {
   "cell_type": "code",
   "execution_count": 177,
   "metadata": {},
   "outputs": [],
   "source": [
    "#split data\n",
    "from sklearn.model_selection import train_test_split\n",
    "\n",
    "train, test = train_test_split(data, random_state=42, test_size=0.30, shuffle=True)"
   ]
  },
  {
   "cell_type": "code",
   "execution_count": 178,
   "metadata": {},
   "outputs": [],
   "source": [
    "train_text = train['comment_text']\n",
    "test_text = test['comment_text']"
   ]
  },
  {
   "cell_type": "code",
   "execution_count": 179,
   "metadata": {},
   "outputs": [
    {
     "output_type": "execute_result",
     "data": {
      "text/plain": "TfidfVectorizer(analyzer='word', binary=False, decode_error='strict',\n                dtype=<class 'numpy.float64'>, encoding='utf-8',\n                input='content', lowercase=True, max_df=1.0, max_features=None,\n                min_df=1, ngram_range=(1, 3), norm='l2', preprocessor=None,\n                smooth_idf=True, stop_words=None, strip_accents='unicode',\n                sublinear_tf=False, token_pattern='(?u)\\\\b\\\\w\\\\w+\\\\b',\n                tokenizer=None, use_idf=True, vocabulary=None)"
     },
     "metadata": {},
     "execution_count": 179
    }
   ],
   "source": [
    "# define vectorizer to turn comment strings into vectors \n",
    "from sklearn.feature_extraction.text import TfidfVectorizer\n",
    "vectorizer = TfidfVectorizer(strip_accents='unicode', analyzer='word', ngram_range=(1,3), norm='l2')\n",
    "vectorizer.fit(train_text)\n",
    "vectorizer.fit(test_text)"
   ]
  },
  {
   "cell_type": "code",
   "execution_count": 180,
   "metadata": {},
   "outputs": [
    {
     "output_type": "stream",
     "name": "stdout",
     "text": "severe_toxicity  obscene  identity_attack  insult  threat  asian  \\\n529162                 0        0                0       0       0      0   \n1422440                0        0                0       0       0      0   \n1629957                0        0                0       0       0      0   \n147283                 0        0                0       0       0      0   \n161660                 0        0                0       0       0      0   \n...                  ...      ...              ...     ...     ...    ...   \n1022306                0        0                0       0       0      0   \n1528159                0        0                0       0       0      0   \n672784                 0        0                0       1       0      0   \n473117                 0        0                0       0       0      0   \n1161090                0        0                0       0       0      0   \n\n         atheist  bisexual  black  buddhist  ...  muslim  other_disability  \\\n529162         0         0      0         0  ...       0                 0   \n1422440        0         0      0         0  ...       0                 0   \n1629957        0         0      1         0  ...       0                 0   \n147283         0         0      0         0  ...       0                 0   \n161660         0         0      0         0  ...       0                 0   \n...          ...       ...    ...       ...  ...     ...               ...   \n1022306        0         0      0         0  ...       0                 0   \n1528159        0         0      0         0  ...       0                 0   \n672784         0         0      0         0  ...       0                 0   \n473117         0         0      0         0  ...       0                 0   \n1161090        0         0      0         0  ...       0                 0   \n\n         other_gender  other_race_or_ethnicity  other_religion  \\\n529162              0                        0               0   \n1422440             0                        0               0   \n1629957             0                        0               0   \n147283              0                        0               0   \n161660              0                        0               0   \n...               ...                      ...             ...   \n1022306             0                        0               0   \n1528159             0                        0               0   \n672784              0                        0               0   \n473117              0                        0               0   \n1161090             0                        0               0   \n\n         other_sexual_orientation  physical_disability  \\\n529162                          0                    0   \n1422440                         0                    0   \n1629957                         0                    0   \n147283                          0                    0   \n161660                          0                    0   \n...                           ...                  ...   \n1022306                         0                    0   \n1528159                         0                    0   \n672784                          0                    0   \n473117                          0                    0   \n1161090                         0                    0   \n\n         psychiatric_or_mental_illness  transgender  white  \n529162                               0            0      0  \n1422440                              0            0      0  \n1629957                              0            0      0  \n147283                               0            0      0  \n161660                               0            0      0  \n...                                ...          ...    ...  \n1022306                              0            0      0  \n1528159                              0            0      0  \n672784                               0            0      0  \n473117                               0            0      0  \n1161090                              0            0      0  \n\n[1400 rows x 29 columns]\n"
    }
   ],
   "source": [
    "x_train = vectorizer.transform(train_text)\n",
    "y_train = train[categories]\n",
    "\n",
    "x_test = vectorizer.transform(test_text)\n",
    "y_test = test[categories]\n",
    "print(y_train)"
   ]
  },
  {
   "cell_type": "code",
   "execution_count": 181,
   "metadata": {},
   "outputs": [],
   "source": [
    "from sklearn.linear_model import LogisticRegression\n",
    "from sklearn.pipeline import Pipeline\n",
    "from sklearn.metrics import accuracy_score\n",
    "from sklearn.multiclass import OneVsRestClassifier\n",
    "from sklearn.multioutput import MultiOutputRegressor\n",
    "from skmultilearn.problem_transform import LabelPowerset\n",
    "from sklearn.tree import DecisionTreeClassifier"
   ]
  },
  {
   "cell_type": "code",
   "execution_count": 182,
   "metadata": {},
   "outputs": [
    {
     "output_type": "display_data",
     "data": {
      "text/markdown": "**Processing severe_toxicity comments...**",
      "text/plain": "<IPython.core.display.Markdown object>"
     },
     "metadata": {}
    },
    {
     "output_type": "stream",
     "name": "stdout",
     "text": "Test accuracy is 1.0\n\n\n"
    },
    {
     "output_type": "display_data",
     "data": {
      "text/markdown": "**Processing obscene comments...**",
      "text/plain": "<IPython.core.display.Markdown object>"
     },
     "metadata": {}
    },
    {
     "output_type": "stream",
     "name": "stdout",
     "text": "Test accuracy is 0.9966666666666667\n\n\n"
    },
    {
     "output_type": "display_data",
     "data": {
      "text/markdown": "**Processing identity_attack comments...**",
      "text/plain": "<IPython.core.display.Markdown object>"
     },
     "metadata": {}
    },
    {
     "output_type": "stream",
     "name": "stdout",
     "text": "Test accuracy is 0.9633333333333334\n\n\n"
    },
    {
     "output_type": "display_data",
     "data": {
      "text/markdown": "**Processing insult comments...**",
      "text/plain": "<IPython.core.display.Markdown object>"
     },
     "metadata": {}
    },
    {
     "output_type": "stream",
     "name": "stdout",
     "text": "Test accuracy is 0.9483333333333334\n\n\n"
    },
    {
     "output_type": "display_data",
     "data": {
      "text/markdown": "**Processing threat comments...**",
      "text/plain": "<IPython.core.display.Markdown object>"
     },
     "metadata": {}
    },
    {
     "output_type": "stream",
     "name": "stdout",
     "text": "Test accuracy is 0.9983333333333333\n\n\n"
    },
    {
     "output_type": "display_data",
     "data": {
      "text/markdown": "**Processing asian comments...**",
      "text/plain": "<IPython.core.display.Markdown object>"
     },
     "metadata": {}
    },
    {
     "output_type": "stream",
     "name": "stdout",
     "text": "Test accuracy is 0.9916666666666667\n\n\n"
    },
    {
     "output_type": "display_data",
     "data": {
      "text/markdown": "**Processing atheist comments...**",
      "text/plain": "<IPython.core.display.Markdown object>"
     },
     "metadata": {}
    },
    {
     "output_type": "stream",
     "name": "stdout",
     "text": "Test accuracy is 1.0\n\n\n"
    },
    {
     "output_type": "display_data",
     "data": {
      "text/markdown": "**Processing bisexual comments...**",
      "text/plain": "<IPython.core.display.Markdown object>"
     },
     "metadata": {}
    },
    {
     "output_type": "stream",
     "name": "stdout",
     "text": "Test accuracy is 0.9983333333333333\n\n\n"
    },
    {
     "output_type": "display_data",
     "data": {
      "text/markdown": "**Processing black comments...**",
      "text/plain": "<IPython.core.display.Markdown object>"
     },
     "metadata": {}
    },
    {
     "output_type": "stream",
     "name": "stdout",
     "text": "Test accuracy is 0.955\n\n\n"
    },
    {
     "output_type": "display_data",
     "data": {
      "text/markdown": "**Processing buddhist comments...**",
      "text/plain": "<IPython.core.display.Markdown object>"
     },
     "metadata": {}
    },
    {
     "output_type": "stream",
     "name": "stdout",
     "text": "Test accuracy is 0.9983333333333333\n\n\n"
    },
    {
     "output_type": "display_data",
     "data": {
      "text/markdown": "**Processing christian comments...**",
      "text/plain": "<IPython.core.display.Markdown object>"
     },
     "metadata": {}
    },
    {
     "output_type": "stream",
     "name": "stdout",
     "text": "Test accuracy is 0.8883333333333333\n\n\n"
    },
    {
     "output_type": "display_data",
     "data": {
      "text/markdown": "**Processing female comments...**",
      "text/plain": "<IPython.core.display.Markdown object>"
     },
     "metadata": {}
    },
    {
     "output_type": "stream",
     "name": "stdout",
     "text": "Test accuracy is 0.8916666666666667\n\n\n"
    },
    {
     "output_type": "display_data",
     "data": {
      "text/markdown": "**Processing heterosexual comments...**",
      "text/plain": "<IPython.core.display.Markdown object>"
     },
     "metadata": {}
    },
    {
     "output_type": "stream",
     "name": "stdout",
     "text": "Test accuracy is 0.9983333333333333\n\n\n"
    },
    {
     "output_type": "display_data",
     "data": {
      "text/markdown": "**Processing hindu comments...**",
      "text/plain": "<IPython.core.display.Markdown object>"
     },
     "metadata": {}
    },
    {
     "output_type": "stream",
     "name": "stdout",
     "text": "Test accuracy is 0.9983333333333333\n\n\n"
    },
    {
     "output_type": "display_data",
     "data": {
      "text/markdown": "**Processing homosexual_gay_or_lesbian comments...**",
      "text/plain": "<IPython.core.display.Markdown object>"
     },
     "metadata": {}
    },
    {
     "output_type": "stream",
     "name": "stdout",
     "text": "Test accuracy is 0.9683333333333334\n\n\n"
    },
    {
     "output_type": "display_data",
     "data": {
      "text/markdown": "**Processing intellectual_or_learning_disability comments...**",
      "text/plain": "<IPython.core.display.Markdown object>"
     },
     "metadata": {}
    },
    {
     "output_type": "stream",
     "name": "stdout",
     "text": "Test accuracy is 1.0\n\n\n"
    },
    {
     "output_type": "display_data",
     "data": {
      "text/markdown": "**Processing jewish comments...**",
      "text/plain": "<IPython.core.display.Markdown object>"
     },
     "metadata": {}
    },
    {
     "output_type": "stream",
     "name": "stdout",
     "text": "Test accuracy is 0.9866666666666667\n\n\n"
    },
    {
     "output_type": "display_data",
     "data": {
      "text/markdown": "**Processing latino comments...**",
      "text/plain": "<IPython.core.display.Markdown object>"
     },
     "metadata": {}
    },
    {
     "output_type": "stream",
     "name": "stdout",
     "text": "Test accuracy is 0.9966666666666667\n\n\n"
    },
    {
     "output_type": "display_data",
     "data": {
      "text/markdown": "**Processing male comments...**",
      "text/plain": "<IPython.core.display.Markdown object>"
     },
     "metadata": {}
    },
    {
     "output_type": "stream",
     "name": "stdout",
     "text": "Test accuracy is 0.905\n\n\n"
    },
    {
     "output_type": "display_data",
     "data": {
      "text/markdown": "**Processing muslim comments...**",
      "text/plain": "<IPython.core.display.Markdown object>"
     },
     "metadata": {}
    },
    {
     "output_type": "stream",
     "name": "stdout",
     "text": "Test accuracy is 0.9433333333333334\n\n\n"
    },
    {
     "output_type": "display_data",
     "data": {
      "text/markdown": "**Processing other_disability comments...**",
      "text/plain": "<IPython.core.display.Markdown object>"
     },
     "metadata": {}
    },
    {
     "output_type": "stream",
     "name": "stdout",
     "text": "Test accuracy is 1.0\n\n\n"
    },
    {
     "output_type": "display_data",
     "data": {
      "text/markdown": "**Processing other_gender comments...**",
      "text/plain": "<IPython.core.display.Markdown object>"
     },
     "metadata": {}
    },
    {
     "output_type": "stream",
     "name": "stdout",
     "text": "Test accuracy is 1.0\n\n\n"
    },
    {
     "output_type": "display_data",
     "data": {
      "text/markdown": "**Processing other_race_or_ethnicity comments...**",
      "text/plain": "<IPython.core.display.Markdown object>"
     },
     "metadata": {}
    },
    {
     "output_type": "stream",
     "name": "stdout",
     "text": "Test accuracy is 1.0\n\n\n"
    },
    {
     "output_type": "display_data",
     "data": {
      "text/markdown": "**Processing other_religion comments...**",
      "text/plain": "<IPython.core.display.Markdown object>"
     },
     "metadata": {}
    },
    {
     "output_type": "stream",
     "name": "stdout",
     "text": "Test accuracy is 0.9983333333333333\n\n\n"
    },
    {
     "output_type": "display_data",
     "data": {
      "text/markdown": "**Processing other_sexual_orientation comments...**",
      "text/plain": "<IPython.core.display.Markdown object>"
     },
     "metadata": {}
    },
    {
     "output_type": "stream",
     "name": "stdout",
     "text": "Test accuracy is 1.0\n\n\n"
    },
    {
     "output_type": "display_data",
     "data": {
      "text/markdown": "**Processing physical_disability comments...**",
      "text/plain": "<IPython.core.display.Markdown object>"
     },
     "metadata": {}
    },
    {
     "output_type": "stream",
     "name": "stdout",
     "text": "Test accuracy is 1.0\n\n\n"
    },
    {
     "output_type": "display_data",
     "data": {
      "text/markdown": "**Processing psychiatric_or_mental_illness comments...**",
      "text/plain": "<IPython.core.display.Markdown object>"
     },
     "metadata": {}
    },
    {
     "output_type": "stream",
     "name": "stdout",
     "text": "Test accuracy is 0.9883333333333333\n\n\n"
    },
    {
     "output_type": "display_data",
     "data": {
      "text/markdown": "**Processing transgender comments...**",
      "text/plain": "<IPython.core.display.Markdown object>"
     },
     "metadata": {}
    },
    {
     "output_type": "stream",
     "name": "stdout",
     "text": "Test accuracy is 0.9883333333333333\n\n\n"
    },
    {
     "output_type": "display_data",
     "data": {
      "text/markdown": "**Processing white comments...**",
      "text/plain": "<IPython.core.display.Markdown object>"
     },
     "metadata": {}
    },
    {
     "output_type": "stream",
     "name": "stdout",
     "text": "Test accuracy is 0.9516666666666667\n\n\n"
    }
   ],
   "source": [
    "\n",
    "from IPython.display import Markdown, display\n",
    "def printmd(string):\n",
    "    display(Markdown(string))\n",
    "\n",
    "# Using pipeline for applying logistic regression and one vs rest classifier\n",
    "LogReg_pipeline = Pipeline([\n",
    "                ('clf', OneVsRestClassifier(LogisticRegression(solver='sag'), n_jobs=-1)),\n",
    "            ])\n",
    "\n",
    "\n",
    "\n",
    "for category in categories:\n",
    "    printmd('**Processing {} comments...**'.format(category))\n",
    "    \n",
    "    # Training logistic regression model on train data\n",
    "    LogReg_pipeline.fit(x_train, train[category])\n",
    "    \n",
    "    # calculating test accuracy\n",
    "    prediction = LogReg_pipeline.predict(x_test)\n",
    "    print('Test accuracy is {}'.format(accuracy_score(test[category], prediction)))\n",
    "    print(\"\\n\")"
   ]
  },
  {
   "cell_type": "code",
   "execution_count": null,
   "metadata": {},
   "outputs": [],
   "source": []
  }
 ],
 "metadata": {
  "language_info": {
   "codemirror_mode": {
    "name": "ipython",
    "version": 2
   },
   "file_extension": ".py",
   "mimetype": "text/x-python",
   "name": "python",
   "nbconvert_exporter": "python",
   "pygments_lexer": "ipython2",
   "version": "3.6.7-final"
  },
  "orig_nbformat": 2,
  "kernelspec": {
   "name": "p36",
   "display_name": "p36"
  }
 },
 "nbformat": 4,
 "nbformat_minor": 2
}