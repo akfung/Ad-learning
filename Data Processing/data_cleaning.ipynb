{
 "cells": [
  {
   "cell_type": "code",
   "execution_count": 4,
   "metadata": {},
   "outputs": [],
   "source": [
    "from ads_api import fb_ad_api\n",
    "import pandas as pd\n",
    "import tensorflow as tf\n",
    "import tensorflow_datasets as tfds\n",
    "import ast\n",
    "import json\n",
    "from wordcloud import WordCloud, STOPWORDS\n",
    "import matplotlib.pyplot as plt\n",
    "from collections import Counter\n",
    "#some additions to the stopwords set\n"
   ]
  },
  {
   "cell_type": "code",
   "execution_count": 5,
   "metadata": {},
   "outputs": [
    {
     "name": "stdout",
     "output_type": "stream",
     "text": [
      "Pulling page:1\n",
      "Pulling page:2\n",
      "Pulling page:3\n",
      "Pulling page:4\n",
      "Pulling page:5\n",
      "Pulling page:6\n",
      "Pulling page:7\n",
      "Pulling page:8\n",
      "Pulling page:9\n",
      "Pulling page:10\n",
      "Pulling page:11\n",
      "Pulling page:12\n",
      "Pulling page:13\n",
      "Pulling page:14\n",
      "Pulling page:15\n",
      "Pulling page:16\n",
      "Pulling page:17\n",
      "Pulling page:18\n",
      "Pulling page:19\n",
      "Pulling page:20\n",
      "Pulling page:21\n",
      "Pulling page:22\n",
      "Pulling page:23\n",
      "Pulling page:24\n",
      "Pulling page:25\n",
      "Pulling page:26\n",
      "Pulling page:27\n",
      "Pulling page:28\n",
      "Pulling page:29\n",
      "Pulling page:30\n",
      "Pulling page:31\n",
      "Pulling page:32\n",
      "Pulling page:33\n",
      "Pulling page:34\n",
      "Pulling page:35\n",
      "Pulling page:36\n",
      "Pulling page:37\n",
      "Pulling page:38\n",
      "Pulling page:39\n",
      "Pulling page:40\n",
      "Pulling page:41\n",
      "Pulling page:42\n",
      "Pulling page:43\n",
      "Pulling page:44\n",
      "Pulling page:45\n",
      "Pulling page:46\n",
      "Pulling page:47\n",
      "Pulling page:48\n",
      "Pulling page:49\n",
      "Pulling page:50\n",
      "Pulling page:51\n",
      "Pulling page:52\n",
      "Pulling page:53\n",
      "Pulling page:54\n",
      "Pulling page:55\n",
      "Pulling page:56\n",
      "Pulling page:57\n",
      "Pulling page:58\n",
      "Pulling page:59\n",
      "Pulling page:60\n",
      "Pulling page:61\n",
      "Pulling page:62\n",
      "Pulling page:63\n",
      "Pulling page:64\n",
      "Pulling page:65\n",
      "Pulling page:66\n",
      "Pulling page:67\n",
      "Pulling page:68\n",
      "Pulling page:69\n",
      "Pulling page:70\n",
      "Pulling page:71\n",
      "Pulling page:72\n",
      "Pulling page:73\n",
      "Pulling page:74\n",
      "Pulling page:75\n",
      "Pulling page:76\n",
      "Pulling page:77\n",
      "Pulling page:78\n",
      "Pulling page:79\n",
      "Pulling page:80\n",
      "Pulling page:81\n",
      "Pulling page:82\n",
      "Pulling page:83\n",
      "Pulling page:84\n",
      "Pulling page:85\n",
      "Pulling page:86\n",
      "Pulling page:87\n",
      "Pulling page:88\n",
      "Pulling page:89\n",
      "Pulling page:90\n",
      "Pulling page:91\n",
      "Pulling page:92\n",
      "Pulling page:93\n",
      "Pulling page:94\n",
      "Pulling page:95\n",
      "Pulling page:96\n",
      "Pulling page:97\n",
      "Pulling page:98\n",
      "Pulling page:99\n",
      "Pulling page:100\n"
     ]
    }
   ],
   "source": [
    "ad_results = fb_ad_api()\n",
    "#call the API and get 10 pages of 100 results each\n",
    "ad_results.call_api(page_limit=100)\n",
    "ad_df = ad_results.make_df()"
   ]
  },
  {
   "cell_type": "code",
   "execution_count": 6,
   "metadata": {},
   "outputs": [],
   "source": [
    "# change upper/lower bound data entries to just upper_bound value\n",
    "def remove_dict(sample):\n",
    "    sample_dict = ast.literal_eval(str(sample))\n",
    "    return sample_dict['upper_bound']\n",
    "ad_df['Impressions'] = ad_df['Impressions'].map(remove_dict)\n",
    "ad_df['AdSpending'] = ad_df['AdSpending'].map(remove_dict)"
   ]
  },
  {
   "cell_type": "code",
   "execution_count": 7,
   "metadata": {},
   "outputs": [],
   "source": [
    "# list of ML features to reference\n",
    "ad_features = ['positivity','toxicity','identityAttack', 'insult']\n",
    "#padding function\n",
    "\n",
    "def pad_to_size(vec, size):\n",
    "  zeros = [0] * (size - len(vec))\n",
    "  vec.extend(zeros)\n",
    "  return vec\n",
    "\n",
    "#function to return a ML prediction from text\n",
    "def sample_predict(sample_pred_text):\n",
    "    #encode sample\n",
    "    encoded_sample_pred_text = tokenizer.encode(sample_pred_text) \n",
    "    encoded_sample_pred_text = pad_to_size(encoded_sample_pred_text, 64)\n",
    "    encoded_sample_pred_text = tf.cast(encoded_sample_pred_text, tf.float32)\n",
    "    predictions = model.predict(tf.expand_dims(encoded_sample_pred_text, 0))\n",
    "\n",
    "    return (predictions)\n",
    "\n",
    "# mapping function for the \n",
    "def binary_label(prediction):\n",
    "    if prediction >= 0.5:\n",
    "        return 1\n",
    "    return 0"
   ]
  },
  {
   "cell_type": "code",
   "execution_count": 8,
   "metadata": {},
   "outputs": [
    {
     "name": "stdout",
     "output_type": "stream",
     "text": [
      "processing positivity\n",
      "WARNING:tensorflow:5 out of the last 14 calls to <function _make_execution_function.<locals>.distributed_function at 0x1443f5510> triggered tf.function retracing. Tracing is expensive and the excessive number of tracings is likely due to passing python objects instead of tensors. Also, tf.function has experimental_relax_shapes=True option that relaxes argument shapes that can avoid unnecessary retracing. Please refer to https://www.tensorflow.org/tutorials/customization/performance#python_or_tensor_args and https://www.tensorflow.org/api_docs/python/tf/function for more details.\n",
      "WARNING:tensorflow:6 out of the last 16 calls to <function _make_execution_function.<locals>.distributed_function at 0x1443f5510> triggered tf.function retracing. Tracing is expensive and the excessive number of tracings is likely due to passing python objects instead of tensors. Also, tf.function has experimental_relax_shapes=True option that relaxes argument shapes that can avoid unnecessary retracing. Please refer to https://www.tensorflow.org/tutorials/customization/performance#python_or_tensor_args and https://www.tensorflow.org/api_docs/python/tf/function for more details.\n",
      "WARNING:tensorflow:5 out of the last 36 calls to <function _make_execution_function.<locals>.distributed_function at 0x1443f5510> triggered tf.function retracing. Tracing is expensive and the excessive number of tracings is likely due to passing python objects instead of tensors. Also, tf.function has experimental_relax_shapes=True option that relaxes argument shapes that can avoid unnecessary retracing. Please refer to https://www.tensorflow.org/tutorials/customization/performance#python_or_tensor_args and https://www.tensorflow.org/api_docs/python/tf/function for more details.\n",
      "WARNING:tensorflow:6 out of the last 38 calls to <function _make_execution_function.<locals>.distributed_function at 0x1443f5510> triggered tf.function retracing. Tracing is expensive and the excessive number of tracings is likely due to passing python objects instead of tensors. Also, tf.function has experimental_relax_shapes=True option that relaxes argument shapes that can avoid unnecessary retracing. Please refer to https://www.tensorflow.org/tutorials/customization/performance#python_or_tensor_args and https://www.tensorflow.org/api_docs/python/tf/function for more details.\n",
      "WARNING:tensorflow:5 out of the last 23 calls to <function _make_execution_function.<locals>.distributed_function at 0x1443f5510> triggered tf.function retracing. Tracing is expensive and the excessive number of tracings is likely due to passing python objects instead of tensors. Also, tf.function has experimental_relax_shapes=True option that relaxes argument shapes that can avoid unnecessary retracing. Please refer to https://www.tensorflow.org/tutorials/customization/performance#python_or_tensor_args and https://www.tensorflow.org/api_docs/python/tf/function for more details.\n",
      "WARNING:tensorflow:5 out of the last 11 calls to <function _make_execution_function.<locals>.distributed_function at 0x1443f5510> triggered tf.function retracing. Tracing is expensive and the excessive number of tracings is likely due to passing python objects instead of tensors. Also, tf.function has experimental_relax_shapes=True option that relaxes argument shapes that can avoid unnecessary retracing. Please refer to https://www.tensorflow.org/tutorials/customization/performance#python_or_tensor_args and https://www.tensorflow.org/api_docs/python/tf/function for more details.\n",
      "WARNING:tensorflow:5 out of the last 15 calls to <function _make_execution_function.<locals>.distributed_function at 0x1443f5510> triggered tf.function retracing. Tracing is expensive and the excessive number of tracings is likely due to passing python objects instead of tensors. Also, tf.function has experimental_relax_shapes=True option that relaxes argument shapes that can avoid unnecessary retracing. Please refer to https://www.tensorflow.org/tutorials/customization/performance#python_or_tensor_args and https://www.tensorflow.org/api_docs/python/tf/function for more details.\n",
      "WARNING:tensorflow:6 out of the last 16 calls to <function _make_execution_function.<locals>.distributed_function at 0x1443f5510> triggered tf.function retracing. Tracing is expensive and the excessive number of tracings is likely due to passing python objects instead of tensors. Also, tf.function has experimental_relax_shapes=True option that relaxes argument shapes that can avoid unnecessary retracing. Please refer to https://www.tensorflow.org/tutorials/customization/performance#python_or_tensor_args and https://www.tensorflow.org/api_docs/python/tf/function for more details.\n",
      "WARNING:tensorflow:5 out of the last 16 calls to <function _make_execution_function.<locals>.distributed_function at 0x1443f5510> triggered tf.function retracing. Tracing is expensive and the excessive number of tracings is likely due to passing python objects instead of tensors. Also, tf.function has experimental_relax_shapes=True option that relaxes argument shapes that can avoid unnecessary retracing. Please refer to https://www.tensorflow.org/tutorials/customization/performance#python_or_tensor_args and https://www.tensorflow.org/api_docs/python/tf/function for more details.\n",
      "WARNING:tensorflow:5 out of the last 13 calls to <function _make_execution_function.<locals>.distributed_function at 0x1443f5510> triggered tf.function retracing. Tracing is expensive and the excessive number of tracings is likely due to passing python objects instead of tensors. Also, tf.function has experimental_relax_shapes=True option that relaxes argument shapes that can avoid unnecessary retracing. Please refer to https://www.tensorflow.org/tutorials/customization/performance#python_or_tensor_args and https://www.tensorflow.org/api_docs/python/tf/function for more details.\n",
      "WARNING:tensorflow:5 out of the last 45 calls to <function _make_execution_function.<locals>.distributed_function at 0x1443f5510> triggered tf.function retracing. Tracing is expensive and the excessive number of tracings is likely due to passing python objects instead of tensors. Also, tf.function has experimental_relax_shapes=True option that relaxes argument shapes that can avoid unnecessary retracing. Please refer to https://www.tensorflow.org/tutorials/customization/performance#python_or_tensor_args and https://www.tensorflow.org/api_docs/python/tf/function for more details.\n",
      "WARNING:tensorflow:5 out of the last 11 calls to <function _make_execution_function.<locals>.distributed_function at 0x1443f5510> triggered tf.function retracing. Tracing is expensive and the excessive number of tracings is likely due to passing python objects instead of tensors. Also, tf.function has experimental_relax_shapes=True option that relaxes argument shapes that can avoid unnecessary retracing. Please refer to https://www.tensorflow.org/tutorials/customization/performance#python_or_tensor_args and https://www.tensorflow.org/api_docs/python/tf/function for more details.\n",
      "WARNING:tensorflow:5 out of the last 23 calls to <function _make_execution_function.<locals>.distributed_function at 0x1443f5510> triggered tf.function retracing. Tracing is expensive and the excessive number of tracings is likely due to passing python objects instead of tensors. Also, tf.function has experimental_relax_shapes=True option that relaxes argument shapes that can avoid unnecessary retracing. Please refer to https://www.tensorflow.org/tutorials/customization/performance#python_or_tensor_args and https://www.tensorflow.org/api_docs/python/tf/function for more details.\n",
      "WARNING:tensorflow:6 out of the last 24 calls to <function _make_execution_function.<locals>.distributed_function at 0x1443f5510> triggered tf.function retracing. Tracing is expensive and the excessive number of tracings is likely due to passing python objects instead of tensors. Also, tf.function has experimental_relax_shapes=True option that relaxes argument shapes that can avoid unnecessary retracing. Please refer to https://www.tensorflow.org/tutorials/customization/performance#python_or_tensor_args and https://www.tensorflow.org/api_docs/python/tf/function for more details.\n"
     ]
    },
    {
     "name": "stdout",
     "output_type": "stream",
     "text": [
      "WARNING:tensorflow:6 out of the last 12 calls to <function _make_execution_function.<locals>.distributed_function at 0x1443f5510> triggered tf.function retracing. Tracing is expensive and the excessive number of tracings is likely due to passing python objects instead of tensors. Also, tf.function has experimental_relax_shapes=True option that relaxes argument shapes that can avoid unnecessary retracing. Please refer to https://www.tensorflow.org/tutorials/customization/performance#python_or_tensor_args and https://www.tensorflow.org/api_docs/python/tf/function for more details.\n",
      "WARNING:tensorflow:5 out of the last 18 calls to <function _make_execution_function.<locals>.distributed_function at 0x1443f5510> triggered tf.function retracing. Tracing is expensive and the excessive number of tracings is likely due to passing python objects instead of tensors. Also, tf.function has experimental_relax_shapes=True option that relaxes argument shapes that can avoid unnecessary retracing. Please refer to https://www.tensorflow.org/tutorials/customization/performance#python_or_tensor_args and https://www.tensorflow.org/api_docs/python/tf/function for more details.\n",
      "WARNING:tensorflow:5 out of the last 11 calls to <function _make_execution_function.<locals>.distributed_function at 0x1443f5510> triggered tf.function retracing. Tracing is expensive and the excessive number of tracings is likely due to passing python objects instead of tensors. Also, tf.function has experimental_relax_shapes=True option that relaxes argument shapes that can avoid unnecessary retracing. Please refer to https://www.tensorflow.org/tutorials/customization/performance#python_or_tensor_args and https://www.tensorflow.org/api_docs/python/tf/function for more details.\n",
      "WARNING:tensorflow:5 out of the last 15 calls to <function _make_execution_function.<locals>.distributed_function at 0x1443f5510> triggered tf.function retracing. Tracing is expensive and the excessive number of tracings is likely due to passing python objects instead of tensors. Also, tf.function has experimental_relax_shapes=True option that relaxes argument shapes that can avoid unnecessary retracing. Please refer to https://www.tensorflow.org/tutorials/customization/performance#python_or_tensor_args and https://www.tensorflow.org/api_docs/python/tf/function for more details.\n",
      "WARNING:tensorflow:5 out of the last 14 calls to <function _make_execution_function.<locals>.distributed_function at 0x1443f5510> triggered tf.function retracing. Tracing is expensive and the excessive number of tracings is likely due to passing python objects instead of tensors. Also, tf.function has experimental_relax_shapes=True option that relaxes argument shapes that can avoid unnecessary retracing. Please refer to https://www.tensorflow.org/tutorials/customization/performance#python_or_tensor_args and https://www.tensorflow.org/api_docs/python/tf/function for more details.\n",
      "WARNING:tensorflow:5 out of the last 30 calls to <function _make_execution_function.<locals>.distributed_function at 0x1443f5510> triggered tf.function retracing. Tracing is expensive and the excessive number of tracings is likely due to passing python objects instead of tensors. Also, tf.function has experimental_relax_shapes=True option that relaxes argument shapes that can avoid unnecessary retracing. Please refer to https://www.tensorflow.org/tutorials/customization/performance#python_or_tensor_args and https://www.tensorflow.org/api_docs/python/tf/function for more details.\n",
      "processing toxicity\n",
      "WARNING:tensorflow:5 out of the last 24 calls to <function _make_execution_function.<locals>.distributed_function at 0x143162b70> triggered tf.function retracing. Tracing is expensive and the excessive number of tracings is likely due to passing python objects instead of tensors. Also, tf.function has experimental_relax_shapes=True option that relaxes argument shapes that can avoid unnecessary retracing. Please refer to https://www.tensorflow.org/tutorials/customization/performance#python_or_tensor_args and https://www.tensorflow.org/api_docs/python/tf/function for more details.\n",
      "WARNING:tensorflow:5 out of the last 38 calls to <function _make_execution_function.<locals>.distributed_function at 0x143162b70> triggered tf.function retracing. Tracing is expensive and the excessive number of tracings is likely due to passing python objects instead of tensors. Also, tf.function has experimental_relax_shapes=True option that relaxes argument shapes that can avoid unnecessary retracing. Please refer to https://www.tensorflow.org/tutorials/customization/performance#python_or_tensor_args and https://www.tensorflow.org/api_docs/python/tf/function for more details.\n",
      "WARNING:tensorflow:6 out of the last 39 calls to <function _make_execution_function.<locals>.distributed_function at 0x143162b70> triggered tf.function retracing. Tracing is expensive and the excessive number of tracings is likely due to passing python objects instead of tensors. Also, tf.function has experimental_relax_shapes=True option that relaxes argument shapes that can avoid unnecessary retracing. Please refer to https://www.tensorflow.org/tutorials/customization/performance#python_or_tensor_args and https://www.tensorflow.org/api_docs/python/tf/function for more details.\n",
      "WARNING:tensorflow:7 out of the last 41 calls to <function _make_execution_function.<locals>.distributed_function at 0x143162b70> triggered tf.function retracing. Tracing is expensive and the excessive number of tracings is likely due to passing python objects instead of tensors. Also, tf.function has experimental_relax_shapes=True option that relaxes argument shapes that can avoid unnecessary retracing. Please refer to https://www.tensorflow.org/tutorials/customization/performance#python_or_tensor_args and https://www.tensorflow.org/api_docs/python/tf/function for more details.\n",
      "WARNING:tensorflow:7 out of the last 13 calls to <function _make_execution_function.<locals>.distributed_function at 0x143162b70> triggered tf.function retracing. Tracing is expensive and the excessive number of tracings is likely due to passing python objects instead of tensors. Also, tf.function has experimental_relax_shapes=True option that relaxes argument shapes that can avoid unnecessary retracing. Please refer to https://www.tensorflow.org/tutorials/customization/performance#python_or_tensor_args and https://www.tensorflow.org/api_docs/python/tf/function for more details.\n",
      "WARNING:tensorflow:5 out of the last 16 calls to <function _make_execution_function.<locals>.distributed_function at 0x143162b70> triggered tf.function retracing. Tracing is expensive and the excessive number of tracings is likely due to passing python objects instead of tensors. Also, tf.function has experimental_relax_shapes=True option that relaxes argument shapes that can avoid unnecessary retracing. Please refer to https://www.tensorflow.org/tutorials/customization/performance#python_or_tensor_args and https://www.tensorflow.org/api_docs/python/tf/function for more details.\n",
      "WARNING:tensorflow:5 out of the last 64 calls to <function _make_execution_function.<locals>.distributed_function at 0x143162b70> triggered tf.function retracing. Tracing is expensive and the excessive number of tracings is likely due to passing python objects instead of tensors. Also, tf.function has experimental_relax_shapes=True option that relaxes argument shapes that can avoid unnecessary retracing. Please refer to https://www.tensorflow.org/tutorials/customization/performance#python_or_tensor_args and https://www.tensorflow.org/api_docs/python/tf/function for more details.\n",
      "WARNING:tensorflow:5 out of the last 11 calls to <function _make_execution_function.<locals>.distributed_function at 0x143162b70> triggered tf.function retracing. Tracing is expensive and the excessive number of tracings is likely due to passing python objects instead of tensors. Also, tf.function has experimental_relax_shapes=True option that relaxes argument shapes that can avoid unnecessary retracing. Please refer to https://www.tensorflow.org/tutorials/customization/performance#python_or_tensor_args and https://www.tensorflow.org/api_docs/python/tf/function for more details.\n"
     ]
    },
    {
     "name": "stdout",
     "output_type": "stream",
     "text": [
      "WARNING:tensorflow:5 out of the last 11 calls to <function _make_execution_function.<locals>.distributed_function at 0x143162b70> triggered tf.function retracing. Tracing is expensive and the excessive number of tracings is likely due to passing python objects instead of tensors. Also, tf.function has experimental_relax_shapes=True option that relaxes argument shapes that can avoid unnecessary retracing. Please refer to https://www.tensorflow.org/tutorials/customization/performance#python_or_tensor_args and https://www.tensorflow.org/api_docs/python/tf/function for more details.\n",
      "WARNING:tensorflow:6 out of the last 12 calls to <function _make_execution_function.<locals>.distributed_function at 0x143162b70> triggered tf.function retracing. Tracing is expensive and the excessive number of tracings is likely due to passing python objects instead of tensors. Also, tf.function has experimental_relax_shapes=True option that relaxes argument shapes that can avoid unnecessary retracing. Please refer to https://www.tensorflow.org/tutorials/customization/performance#python_or_tensor_args and https://www.tensorflow.org/api_docs/python/tf/function for more details.\n",
      "WARNING:tensorflow:7 out of the last 13 calls to <function _make_execution_function.<locals>.distributed_function at 0x143162b70> triggered tf.function retracing. Tracing is expensive and the excessive number of tracings is likely due to passing python objects instead of tensors. Also, tf.function has experimental_relax_shapes=True option that relaxes argument shapes that can avoid unnecessary retracing. Please refer to https://www.tensorflow.org/tutorials/customization/performance#python_or_tensor_args and https://www.tensorflow.org/api_docs/python/tf/function for more details.\n",
      "WARNING:tensorflow:5 out of the last 56 calls to <function _make_execution_function.<locals>.distributed_function at 0x143162b70> triggered tf.function retracing. Tracing is expensive and the excessive number of tracings is likely due to passing python objects instead of tensors. Also, tf.function has experimental_relax_shapes=True option that relaxes argument shapes that can avoid unnecessary retracing. Please refer to https://www.tensorflow.org/tutorials/customization/performance#python_or_tensor_args and https://www.tensorflow.org/api_docs/python/tf/function for more details.\n",
      "WARNING:tensorflow:5 out of the last 15 calls to <function _make_execution_function.<locals>.distributed_function at 0x143162b70> triggered tf.function retracing. Tracing is expensive and the excessive number of tracings is likely due to passing python objects instead of tensors. Also, tf.function has experimental_relax_shapes=True option that relaxes argument shapes that can avoid unnecessary retracing. Please refer to https://www.tensorflow.org/tutorials/customization/performance#python_or_tensor_args and https://www.tensorflow.org/api_docs/python/tf/function for more details.\n",
      "WARNING:tensorflow:5 out of the last 16 calls to <function _make_execution_function.<locals>.distributed_function at 0x143162b70> triggered tf.function retracing. Tracing is expensive and the excessive number of tracings is likely due to passing python objects instead of tensors. Also, tf.function has experimental_relax_shapes=True option that relaxes argument shapes that can avoid unnecessary retracing. Please refer to https://www.tensorflow.org/tutorials/customization/performance#python_or_tensor_args and https://www.tensorflow.org/api_docs/python/tf/function for more details.\n",
      "WARNING:tensorflow:5 out of the last 35 calls to <function _make_execution_function.<locals>.distributed_function at 0x143162b70> triggered tf.function retracing. Tracing is expensive and the excessive number of tracings is likely due to passing python objects instead of tensors. Also, tf.function has experimental_relax_shapes=True option that relaxes argument shapes that can avoid unnecessary retracing. Please refer to https://www.tensorflow.org/tutorials/customization/performance#python_or_tensor_args and https://www.tensorflow.org/api_docs/python/tf/function for more details.\n",
      "WARNING:tensorflow:5 out of the last 39 calls to <function _make_execution_function.<locals>.distributed_function at 0x143162b70> triggered tf.function retracing. Tracing is expensive and the excessive number of tracings is likely due to passing python objects instead of tensors. Also, tf.function has experimental_relax_shapes=True option that relaxes argument shapes that can avoid unnecessary retracing. Please refer to https://www.tensorflow.org/tutorials/customization/performance#python_or_tensor_args and https://www.tensorflow.org/api_docs/python/tf/function for more details.\n",
      "WARNING:tensorflow:5 out of the last 15 calls to <function _make_execution_function.<locals>.distributed_function at 0x143162b70> triggered tf.function retracing. Tracing is expensive and the excessive number of tracings is likely due to passing python objects instead of tensors. Also, tf.function has experimental_relax_shapes=True option that relaxes argument shapes that can avoid unnecessary retracing. Please refer to https://www.tensorflow.org/tutorials/customization/performance#python_or_tensor_args and https://www.tensorflow.org/api_docs/python/tf/function for more details.\n",
      "WARNING:tensorflow:5 out of the last 28 calls to <function _make_execution_function.<locals>.distributed_function at 0x143162b70> triggered tf.function retracing. Tracing is expensive and the excessive number of tracings is likely due to passing python objects instead of tensors. Also, tf.function has experimental_relax_shapes=True option that relaxes argument shapes that can avoid unnecessary retracing. Please refer to https://www.tensorflow.org/tutorials/customization/performance#python_or_tensor_args and https://www.tensorflow.org/api_docs/python/tf/function for more details.\n",
      "processing identityAttack\n",
      "WARNING:tensorflow:5 out of the last 24 calls to <function _make_execution_function.<locals>.distributed_function at 0x149f98840> triggered tf.function retracing. Tracing is expensive and the excessive number of tracings is likely due to passing python objects instead of tensors. Also, tf.function has experimental_relax_shapes=True option that relaxes argument shapes that can avoid unnecessary retracing. Please refer to https://www.tensorflow.org/tutorials/customization/performance#python_or_tensor_args and https://www.tensorflow.org/api_docs/python/tf/function for more details.\n",
      "WARNING:tensorflow:5 out of the last 38 calls to <function _make_execution_function.<locals>.distributed_function at 0x149f98840> triggered tf.function retracing. Tracing is expensive and the excessive number of tracings is likely due to passing python objects instead of tensors. Also, tf.function has experimental_relax_shapes=True option that relaxes argument shapes that can avoid unnecessary retracing. Please refer to https://www.tensorflow.org/tutorials/customization/performance#python_or_tensor_args and https://www.tensorflow.org/api_docs/python/tf/function for more details.\n",
      "WARNING:tensorflow:6 out of the last 39 calls to <function _make_execution_function.<locals>.distributed_function at 0x149f98840> triggered tf.function retracing. Tracing is expensive and the excessive number of tracings is likely due to passing python objects instead of tensors. Also, tf.function has experimental_relax_shapes=True option that relaxes argument shapes that can avoid unnecessary retracing. Please refer to https://www.tensorflow.org/tutorials/customization/performance#python_or_tensor_args and https://www.tensorflow.org/api_docs/python/tf/function for more details.\n",
      "WARNING:tensorflow:7 out of the last 41 calls to <function _make_execution_function.<locals>.distributed_function at 0x149f98840> triggered tf.function retracing. Tracing is expensive and the excessive number of tracings is likely due to passing python objects instead of tensors. Also, tf.function has experimental_relax_shapes=True option that relaxes argument shapes that can avoid unnecessary retracing. Please refer to https://www.tensorflow.org/tutorials/customization/performance#python_or_tensor_args and https://www.tensorflow.org/api_docs/python/tf/function for more details.\n"
     ]
    },
    {
     "name": "stdout",
     "output_type": "stream",
     "text": [
      "WARNING:tensorflow:7 out of the last 13 calls to <function _make_execution_function.<locals>.distributed_function at 0x149f98840> triggered tf.function retracing. Tracing is expensive and the excessive number of tracings is likely due to passing python objects instead of tensors. Also, tf.function has experimental_relax_shapes=True option that relaxes argument shapes that can avoid unnecessary retracing. Please refer to https://www.tensorflow.org/tutorials/customization/performance#python_or_tensor_args and https://www.tensorflow.org/api_docs/python/tf/function for more details.\n",
      "WARNING:tensorflow:5 out of the last 16 calls to <function _make_execution_function.<locals>.distributed_function at 0x149f98840> triggered tf.function retracing. Tracing is expensive and the excessive number of tracings is likely due to passing python objects instead of tensors. Also, tf.function has experimental_relax_shapes=True option that relaxes argument shapes that can avoid unnecessary retracing. Please refer to https://www.tensorflow.org/tutorials/customization/performance#python_or_tensor_args and https://www.tensorflow.org/api_docs/python/tf/function for more details.\n",
      "WARNING:tensorflow:5 out of the last 64 calls to <function _make_execution_function.<locals>.distributed_function at 0x149f98840> triggered tf.function retracing. Tracing is expensive and the excessive number of tracings is likely due to passing python objects instead of tensors. Also, tf.function has experimental_relax_shapes=True option that relaxes argument shapes that can avoid unnecessary retracing. Please refer to https://www.tensorflow.org/tutorials/customization/performance#python_or_tensor_args and https://www.tensorflow.org/api_docs/python/tf/function for more details.\n",
      "WARNING:tensorflow:5 out of the last 11 calls to <function _make_execution_function.<locals>.distributed_function at 0x149f98840> triggered tf.function retracing. Tracing is expensive and the excessive number of tracings is likely due to passing python objects instead of tensors. Also, tf.function has experimental_relax_shapes=True option that relaxes argument shapes that can avoid unnecessary retracing. Please refer to https://www.tensorflow.org/tutorials/customization/performance#python_or_tensor_args and https://www.tensorflow.org/api_docs/python/tf/function for more details.\n",
      "WARNING:tensorflow:5 out of the last 11 calls to <function _make_execution_function.<locals>.distributed_function at 0x149f98840> triggered tf.function retracing. Tracing is expensive and the excessive number of tracings is likely due to passing python objects instead of tensors. Also, tf.function has experimental_relax_shapes=True option that relaxes argument shapes that can avoid unnecessary retracing. Please refer to https://www.tensorflow.org/tutorials/customization/performance#python_or_tensor_args and https://www.tensorflow.org/api_docs/python/tf/function for more details.\n",
      "WARNING:tensorflow:6 out of the last 12 calls to <function _make_execution_function.<locals>.distributed_function at 0x149f98840> triggered tf.function retracing. Tracing is expensive and the excessive number of tracings is likely due to passing python objects instead of tensors. Also, tf.function has experimental_relax_shapes=True option that relaxes argument shapes that can avoid unnecessary retracing. Please refer to https://www.tensorflow.org/tutorials/customization/performance#python_or_tensor_args and https://www.tensorflow.org/api_docs/python/tf/function for more details.\n",
      "WARNING:tensorflow:7 out of the last 13 calls to <function _make_execution_function.<locals>.distributed_function at 0x149f98840> triggered tf.function retracing. Tracing is expensive and the excessive number of tracings is likely due to passing python objects instead of tensors. Also, tf.function has experimental_relax_shapes=True option that relaxes argument shapes that can avoid unnecessary retracing. Please refer to https://www.tensorflow.org/tutorials/customization/performance#python_or_tensor_args and https://www.tensorflow.org/api_docs/python/tf/function for more details.\n",
      "WARNING:tensorflow:5 out of the last 56 calls to <function _make_execution_function.<locals>.distributed_function at 0x149f98840> triggered tf.function retracing. Tracing is expensive and the excessive number of tracings is likely due to passing python objects instead of tensors. Also, tf.function has experimental_relax_shapes=True option that relaxes argument shapes that can avoid unnecessary retracing. Please refer to https://www.tensorflow.org/tutorials/customization/performance#python_or_tensor_args and https://www.tensorflow.org/api_docs/python/tf/function for more details.\n",
      "WARNING:tensorflow:5 out of the last 15 calls to <function _make_execution_function.<locals>.distributed_function at 0x149f98840> triggered tf.function retracing. Tracing is expensive and the excessive number of tracings is likely due to passing python objects instead of tensors. Also, tf.function has experimental_relax_shapes=True option that relaxes argument shapes that can avoid unnecessary retracing. Please refer to https://www.tensorflow.org/tutorials/customization/performance#python_or_tensor_args and https://www.tensorflow.org/api_docs/python/tf/function for more details.\n",
      "WARNING:tensorflow:5 out of the last 16 calls to <function _make_execution_function.<locals>.distributed_function at 0x149f98840> triggered tf.function retracing. Tracing is expensive and the excessive number of tracings is likely due to passing python objects instead of tensors. Also, tf.function has experimental_relax_shapes=True option that relaxes argument shapes that can avoid unnecessary retracing. Please refer to https://www.tensorflow.org/tutorials/customization/performance#python_or_tensor_args and https://www.tensorflow.org/api_docs/python/tf/function for more details.\n",
      "WARNING:tensorflow:5 out of the last 35 calls to <function _make_execution_function.<locals>.distributed_function at 0x149f98840> triggered tf.function retracing. Tracing is expensive and the excessive number of tracings is likely due to passing python objects instead of tensors. Also, tf.function has experimental_relax_shapes=True option that relaxes argument shapes that can avoid unnecessary retracing. Please refer to https://www.tensorflow.org/tutorials/customization/performance#python_or_tensor_args and https://www.tensorflow.org/api_docs/python/tf/function for more details.\n",
      "WARNING:tensorflow:5 out of the last 39 calls to <function _make_execution_function.<locals>.distributed_function at 0x149f98840> triggered tf.function retracing. Tracing is expensive and the excessive number of tracings is likely due to passing python objects instead of tensors. Also, tf.function has experimental_relax_shapes=True option that relaxes argument shapes that can avoid unnecessary retracing. Please refer to https://www.tensorflow.org/tutorials/customization/performance#python_or_tensor_args and https://www.tensorflow.org/api_docs/python/tf/function for more details.\n",
      "WARNING:tensorflow:5 out of the last 15 calls to <function _make_execution_function.<locals>.distributed_function at 0x149f98840> triggered tf.function retracing. Tracing is expensive and the excessive number of tracings is likely due to passing python objects instead of tensors. Also, tf.function has experimental_relax_shapes=True option that relaxes argument shapes that can avoid unnecessary retracing. Please refer to https://www.tensorflow.org/tutorials/customization/performance#python_or_tensor_args and https://www.tensorflow.org/api_docs/python/tf/function for more details.\n",
      "WARNING:tensorflow:5 out of the last 28 calls to <function _make_execution_function.<locals>.distributed_function at 0x149f98840> triggered tf.function retracing. Tracing is expensive and the excessive number of tracings is likely due to passing python objects instead of tensors. Also, tf.function has experimental_relax_shapes=True option that relaxes argument shapes that can avoid unnecessary retracing. Please refer to https://www.tensorflow.org/tutorials/customization/performance#python_or_tensor_args and https://www.tensorflow.org/api_docs/python/tf/function for more details.\n"
     ]
    },
    {
     "name": "stdout",
     "output_type": "stream",
     "text": [
      "processing insult\n",
      "WARNING:tensorflow:5 out of the last 24 calls to <function _make_execution_function.<locals>.distributed_function at 0x153230730> triggered tf.function retracing. Tracing is expensive and the excessive number of tracings is likely due to passing python objects instead of tensors. Also, tf.function has experimental_relax_shapes=True option that relaxes argument shapes that can avoid unnecessary retracing. Please refer to https://www.tensorflow.org/tutorials/customization/performance#python_or_tensor_args and https://www.tensorflow.org/api_docs/python/tf/function for more details.\n",
      "WARNING:tensorflow:5 out of the last 38 calls to <function _make_execution_function.<locals>.distributed_function at 0x153230730> triggered tf.function retracing. Tracing is expensive and the excessive number of tracings is likely due to passing python objects instead of tensors. Also, tf.function has experimental_relax_shapes=True option that relaxes argument shapes that can avoid unnecessary retracing. Please refer to https://www.tensorflow.org/tutorials/customization/performance#python_or_tensor_args and https://www.tensorflow.org/api_docs/python/tf/function for more details.\n",
      "WARNING:tensorflow:6 out of the last 39 calls to <function _make_execution_function.<locals>.distributed_function at 0x153230730> triggered tf.function retracing. Tracing is expensive and the excessive number of tracings is likely due to passing python objects instead of tensors. Also, tf.function has experimental_relax_shapes=True option that relaxes argument shapes that can avoid unnecessary retracing. Please refer to https://www.tensorflow.org/tutorials/customization/performance#python_or_tensor_args and https://www.tensorflow.org/api_docs/python/tf/function for more details.\n",
      "WARNING:tensorflow:7 out of the last 41 calls to <function _make_execution_function.<locals>.distributed_function at 0x153230730> triggered tf.function retracing. Tracing is expensive and the excessive number of tracings is likely due to passing python objects instead of tensors. Also, tf.function has experimental_relax_shapes=True option that relaxes argument shapes that can avoid unnecessary retracing. Please refer to https://www.tensorflow.org/tutorials/customization/performance#python_or_tensor_args and https://www.tensorflow.org/api_docs/python/tf/function for more details.\n",
      "WARNING:tensorflow:7 out of the last 13 calls to <function _make_execution_function.<locals>.distributed_function at 0x153230730> triggered tf.function retracing. Tracing is expensive and the excessive number of tracings is likely due to passing python objects instead of tensors. Also, tf.function has experimental_relax_shapes=True option that relaxes argument shapes that can avoid unnecessary retracing. Please refer to https://www.tensorflow.org/tutorials/customization/performance#python_or_tensor_args and https://www.tensorflow.org/api_docs/python/tf/function for more details.\n",
      "WARNING:tensorflow:5 out of the last 16 calls to <function _make_execution_function.<locals>.distributed_function at 0x153230730> triggered tf.function retracing. Tracing is expensive and the excessive number of tracings is likely due to passing python objects instead of tensors. Also, tf.function has experimental_relax_shapes=True option that relaxes argument shapes that can avoid unnecessary retracing. Please refer to https://www.tensorflow.org/tutorials/customization/performance#python_or_tensor_args and https://www.tensorflow.org/api_docs/python/tf/function for more details.\n",
      "WARNING:tensorflow:5 out of the last 64 calls to <function _make_execution_function.<locals>.distributed_function at 0x153230730> triggered tf.function retracing. Tracing is expensive and the excessive number of tracings is likely due to passing python objects instead of tensors. Also, tf.function has experimental_relax_shapes=True option that relaxes argument shapes that can avoid unnecessary retracing. Please refer to https://www.tensorflow.org/tutorials/customization/performance#python_or_tensor_args and https://www.tensorflow.org/api_docs/python/tf/function for more details.\n",
      "WARNING:tensorflow:5 out of the last 11 calls to <function _make_execution_function.<locals>.distributed_function at 0x153230730> triggered tf.function retracing. Tracing is expensive and the excessive number of tracings is likely due to passing python objects instead of tensors. Also, tf.function has experimental_relax_shapes=True option that relaxes argument shapes that can avoid unnecessary retracing. Please refer to https://www.tensorflow.org/tutorials/customization/performance#python_or_tensor_args and https://www.tensorflow.org/api_docs/python/tf/function for more details.\n",
      "WARNING:tensorflow:5 out of the last 11 calls to <function _make_execution_function.<locals>.distributed_function at 0x153230730> triggered tf.function retracing. Tracing is expensive and the excessive number of tracings is likely due to passing python objects instead of tensors. Also, tf.function has experimental_relax_shapes=True option that relaxes argument shapes that can avoid unnecessary retracing. Please refer to https://www.tensorflow.org/tutorials/customization/performance#python_or_tensor_args and https://www.tensorflow.org/api_docs/python/tf/function for more details.\n",
      "WARNING:tensorflow:6 out of the last 12 calls to <function _make_execution_function.<locals>.distributed_function at 0x153230730> triggered tf.function retracing. Tracing is expensive and the excessive number of tracings is likely due to passing python objects instead of tensors. Also, tf.function has experimental_relax_shapes=True option that relaxes argument shapes that can avoid unnecessary retracing. Please refer to https://www.tensorflow.org/tutorials/customization/performance#python_or_tensor_args and https://www.tensorflow.org/api_docs/python/tf/function for more details.\n",
      "WARNING:tensorflow:7 out of the last 13 calls to <function _make_execution_function.<locals>.distributed_function at 0x153230730> triggered tf.function retracing. Tracing is expensive and the excessive number of tracings is likely due to passing python objects instead of tensors. Also, tf.function has experimental_relax_shapes=True option that relaxes argument shapes that can avoid unnecessary retracing. Please refer to https://www.tensorflow.org/tutorials/customization/performance#python_or_tensor_args and https://www.tensorflow.org/api_docs/python/tf/function for more details.\n",
      "WARNING:tensorflow:5 out of the last 56 calls to <function _make_execution_function.<locals>.distributed_function at 0x153230730> triggered tf.function retracing. Tracing is expensive and the excessive number of tracings is likely due to passing python objects instead of tensors. Also, tf.function has experimental_relax_shapes=True option that relaxes argument shapes that can avoid unnecessary retracing. Please refer to https://www.tensorflow.org/tutorials/customization/performance#python_or_tensor_args and https://www.tensorflow.org/api_docs/python/tf/function for more details.\n",
      "WARNING:tensorflow:5 out of the last 15 calls to <function _make_execution_function.<locals>.distributed_function at 0x153230730> triggered tf.function retracing. Tracing is expensive and the excessive number of tracings is likely due to passing python objects instead of tensors. Also, tf.function has experimental_relax_shapes=True option that relaxes argument shapes that can avoid unnecessary retracing. Please refer to https://www.tensorflow.org/tutorials/customization/performance#python_or_tensor_args and https://www.tensorflow.org/api_docs/python/tf/function for more details.\n",
      "WARNING:tensorflow:5 out of the last 16 calls to <function _make_execution_function.<locals>.distributed_function at 0x153230730> triggered tf.function retracing. Tracing is expensive and the excessive number of tracings is likely due to passing python objects instead of tensors. Also, tf.function has experimental_relax_shapes=True option that relaxes argument shapes that can avoid unnecessary retracing. Please refer to https://www.tensorflow.org/tutorials/customization/performance#python_or_tensor_args and https://www.tensorflow.org/api_docs/python/tf/function for more details.\n"
     ]
    },
    {
     "name": "stdout",
     "output_type": "stream",
     "text": [
      "WARNING:tensorflow:5 out of the last 35 calls to <function _make_execution_function.<locals>.distributed_function at 0x153230730> triggered tf.function retracing. Tracing is expensive and the excessive number of tracings is likely due to passing python objects instead of tensors. Also, tf.function has experimental_relax_shapes=True option that relaxes argument shapes that can avoid unnecessary retracing. Please refer to https://www.tensorflow.org/tutorials/customization/performance#python_or_tensor_args and https://www.tensorflow.org/api_docs/python/tf/function for more details.\n",
      "WARNING:tensorflow:5 out of the last 39 calls to <function _make_execution_function.<locals>.distributed_function at 0x153230730> triggered tf.function retracing. Tracing is expensive and the excessive number of tracings is likely due to passing python objects instead of tensors. Also, tf.function has experimental_relax_shapes=True option that relaxes argument shapes that can avoid unnecessary retracing. Please refer to https://www.tensorflow.org/tutorials/customization/performance#python_or_tensor_args and https://www.tensorflow.org/api_docs/python/tf/function for more details.\n",
      "WARNING:tensorflow:5 out of the last 15 calls to <function _make_execution_function.<locals>.distributed_function at 0x153230730> triggered tf.function retracing. Tracing is expensive and the excessive number of tracings is likely due to passing python objects instead of tensors. Also, tf.function has experimental_relax_shapes=True option that relaxes argument shapes that can avoid unnecessary retracing. Please refer to https://www.tensorflow.org/tutorials/customization/performance#python_or_tensor_args and https://www.tensorflow.org/api_docs/python/tf/function for more details.\n",
      "WARNING:tensorflow:5 out of the last 28 calls to <function _make_execution_function.<locals>.distributed_function at 0x153230730> triggered tf.function retracing. Tracing is expensive and the excessive number of tracings is likely due to passing python objects instead of tensors. Also, tf.function has experimental_relax_shapes=True option that relaxes argument shapes that can avoid unnecessary retracing. Please refer to https://www.tensorflow.org/tutorials/customization/performance#python_or_tensor_args and https://www.tensorflow.org/api_docs/python/tf/function for more details.\n"
     ]
    }
   ],
   "source": [
    "#loop for each of the ad feature models\n",
    "for feature in ad_features:\n",
    "    print(f'processing {feature}')\n",
    "    #set specific tokenizer if doing positivity predictions\n",
    "    if feature == 'positivity':\n",
    "        tokenizer = tfds.features.text.SubwordTextEncoder.load_from_file('../ml_settings/positivity_large_tokenizer')\n",
    "    else:\n",
    "        tokenizer = tfds.features.text.SubwordTextEncoder.load_from_file('../ml_settings/large_tokenizer')\n",
    "    #load model\n",
    "    model = tf.keras.models.load_model(f'../ml_settings/{feature}_rnn.h5')\n",
    "\n",
    "    #map predictions to new column\n",
    "    ad_df[feature] = ad_df['AdText'].map(lambda x: binary_label(sample_predict(str(x))))\n",
    "    "
   ]
  },
  {
   "cell_type": "code",
   "execution_count": 14,
   "metadata": {},
   "outputs": [
    {
     "data": {
      "text/html": [
       "<div>\n",
       "<style scoped>\n",
       "    .dataframe tbody tr th:only-of-type {\n",
       "        vertical-align: middle;\n",
       "    }\n",
       "\n",
       "    .dataframe tbody tr th {\n",
       "        vertical-align: top;\n",
       "    }\n",
       "\n",
       "    .dataframe thead th {\n",
       "        text-align: right;\n",
       "    }\n",
       "</style>\n",
       "<table border=\"1\" class=\"dataframe\">\n",
       "  <thead>\n",
       "    <tr style=\"text-align: right;\">\n",
       "      <th></th>\n",
       "      <th>AdID</th>\n",
       "      <th>AdURL</th>\n",
       "      <th>AdText</th>\n",
       "      <th>HostedPage</th>\n",
       "      <th>Impressions</th>\n",
       "      <th>Currency</th>\n",
       "      <th>AdSpending</th>\n",
       "      <th>positivity</th>\n",
       "      <th>toxicity</th>\n",
       "      <th>identityAttack</th>\n",
       "      <th>insult</th>\n",
       "      <th>dummy_id</th>\n",
       "    </tr>\n",
       "  </thead>\n",
       "  <tbody>\n",
       "    <tr>\n",
       "      <th>2199</th>\n",
       "      <td>862396234281895</td>\n",
       "      <td>https://www.facebook.com/ads/archive/render_ad...</td>\n",
       "      <td>You can vote safely on or by June 9 by request...</td>\n",
       "      <td>Dakota Leadership PAC</td>\n",
       "      <td>999</td>\n",
       "      <td>USD</td>\n",
       "      <td>99</td>\n",
       "      <td>0</td>\n",
       "      <td>0</td>\n",
       "      <td>0</td>\n",
       "      <td>0</td>\n",
       "      <td>2200</td>\n",
       "    </tr>\n",
       "  </tbody>\n",
       "</table>\n",
       "</div>"
      ],
      "text/plain": [
       "                 AdID                                              AdURL  \\\n",
       "2199  862396234281895  https://www.facebook.com/ads/archive/render_ad...   \n",
       "\n",
       "                                                 AdText  \\\n",
       "2199  You can vote safely on or by June 9 by request...   \n",
       "\n",
       "                 HostedPage Impressions Currency AdSpending  positivity  \\\n",
       "2199  Dakota Leadership PAC         999      USD         99           0   \n",
       "\n",
       "      toxicity  identityAttack  insult  dummy_id  \n",
       "2199         0               0       0      2200  "
      ]
     },
     "execution_count": 14,
     "metadata": {},
     "output_type": "execute_result"
    }
   ],
   "source": [
    "ad_df['dummy_id'] = range(1, len(ad_df) + 1)\n",
    "ad_df.loc[ad_df['dummy_id']==2200,:]"
   ]
  },
  {
   "cell_type": "code",
   "execution_count": 13,
   "metadata": {},
   "outputs": [],
   "source": [
    "#save resultin dfs to csv. save a unique df with duplicates removed as well\n",
    "ad_df.to_csv('../Data/20200528.csv')\n",
    "# unique_ad_df = ad_df.drop_duplicates(subset = 'AdText', keep='first')\n",
    "# unique_ad_df.to_csv('../Data/2020514unique.csv')"
   ]
  },
  {
   "cell_type": "code",
   "execution_count": 32,
   "metadata": {},
   "outputs": [],
   "source": [
    "#read dataframes from csv if restarting notebook\n",
    "ad_df = pd.read_csv('../Data/20200528.csv')\n",
    "unique_ad_df = pd.read_csv('../Data/2020514unique.csv')"
   ]
  },
  {
   "cell_type": "code",
   "execution_count": 92,
   "metadata": {},
   "outputs": [],
   "source": [
    "ad_features = ['positivity','toxicity', 'insult', 'general']"
   ]
  },
  {
   "cell_type": "code",
   "execution_count": 93,
   "metadata": {
    "collapsed": true
   },
   "outputs": [
    {
     "data": {
      "image/png": "[encoded data removed]",
      "text/plain": [
       "<Figure size 432x288 with 1 Axes>"
      ]
     },
     "metadata": {
      "needs_background": "light"
     },
     "output_type": "display_data"
    }
   ],
   "source": [
    "# Wordcloud for most common words in positively labeled ads\n",
    "for word_cloud_feature in ad_features:\n",
    "    \n",
    "    if word_cloud_feature == 'general': #select the whole df for the 'general' feature\n",
    "        df = ad_df['AdText']\n",
    "    else:\n",
    "        cloud_text = ad_df.loc[ad_df[word_cloud_feature]==1, 'AdText'] #select entries positive for feature\n",
    "        \n",
    "    if len(cloud_text) > 0: #only proceed if there is actual text that was labeled positive\n",
    "        word_cloud_fig = WordCloud(\n",
    "                                stopwords=STOPWORDS,\n",
    "                                background_color='black',\n",
    "                                collocations=False,\n",
    "                                width=2500,\n",
    "                                height=1800\n",
    "                                ).generate(\" \".join(cloud_text))\n",
    "\n",
    "        plt.axis('off')\n",
    "        plt.title(word_cloud_feature,fontsize=40)\n",
    "        word_cloud_fig.to_file('{}.jpg'.format(word_cloud_feature))"
   ]
  },
  {
   "cell_type": "code",
   "execution_count": 119,
   "metadata": {},
   "outputs": [],
   "source": [
    "#function for generating dictionaries of top words for graphing\n",
    "\n",
    "def top_words(unique=False):\n",
    "    STOPWORDS.add('\\n\\nHe')\n",
    "    output_to_js = {}\n",
    "    \n",
    "    #set to df with duplicates by default. If unique == True then use df without duplicates\n",
    "    df = ad_df\n",
    "    if unique == True:\n",
    "        df = unique_ad_df\n",
    "    \n",
    "    #loop through ad features to identify top words\n",
    "    for feature in ad_features:\n",
    "        \n",
    "        if word_cloud_feature == 'general': #select the whole df for the 'general' feature\n",
    "            text = df['AdText']\n",
    "        else:\n",
    "            text = df.loc[ad_df[word_cloud_feature]==1, 'AdText'] #select entries positive for feature\n",
    "        \n",
    "        #join all ad text into single string then split by spaces into list\n",
    "        text = \" \".join(str(description) for description in text).split(' ')\n",
    "\n",
    "        #remove stopwords\n",
    "        text = [word for word in text if not word in STOPWORDS]\n",
    "\n",
    "        #use counter to grab most common words\n",
    "        count_tuple = Counter(text).most_common(10)\n",
    "\n",
    "        #write counts to dictionary\n",
    "        count_dict = {}\n",
    "        for entry in count_tuple:\n",
    "            word, count = entry\n",
    "            count_dict.update({word: count})\n",
    "        \n",
    "        \n",
    "        words_key = f'{feature}TopWords'\n",
    "        if unique == True:\n",
    "            words_key = f'Unique{feature}TopWords'\n",
    "        \n",
    "        #append the dictionary with count_dict\n",
    "        output_to_js.update({words_key : count_dict})\n",
    "    return(output_to_js)\n",
    "    #write json into .js for static loading onto page\n",
    "#     with open('../topwords.js', 'w') as outfile:\n",
    "#         json.dump(output_to_js, outfile)"
   ]
  },
  {
   "cell_type": "code",
   "execution_count": 121,
   "metadata": {
    "collapsed": true
   },
   "outputs": [
    {
     "data": {
      "text/plain": [
       "{'UniquepositivityTopWords': {'need': 365,\n",
       "  'We': 362,\n",
       "  'help': 329,\n",
       "  'County': 319,\n",
       "  'us': 290,\n",
       "  'de': 268,\n",
       "  'Trump': 252,\n",
       "  'vote': 251,\n",
       "  'time': 243,\n",
       "  'May': 233},\n",
       " 'UniquetoxicityTopWords': {'need': 365,\n",
       "  'We': 362,\n",
       "  'help': 329,\n",
       "  'County': 319,\n",
       "  'us': 290,\n",
       "  'de': 268,\n",
       "  'Trump': 252,\n",
       "  'vote': 251,\n",
       "  'time': 243,\n",
       "  'May': 233},\n",
       " 'UniqueinsultTopWords': {'need': 365,\n",
       "  'We': 362,\n",
       "  'help': 329,\n",
       "  'County': 319,\n",
       "  'us': 290,\n",
       "  'de': 268,\n",
       "  'Trump': 252,\n",
       "  'vote': 251,\n",
       "  'time': 243,\n",
       "  'May': 233},\n",
       " 'UniquegeneralTopWords': {'need': 365,\n",
       "  'We': 362,\n",
       "  'help': 329,\n",
       "  'County': 319,\n",
       "  'us': 290,\n",
       "  'de': 268,\n",
       "  'Trump': 252,\n",
       "  'vote': 251,\n",
       "  'time': 243,\n",
       "  'May': 233}}"
      ]
     },
     "execution_count": 121,
     "metadata": {},
     "output_type": "execute_result"
    }
   ],
   "source": [
    "# run the function\n",
    "top_words(unique=True)"
   ]
  },
  {
   "cell_type": "code",
   "execution_count": 122,
   "metadata": {},
   "outputs": [],
   "source": [
    "def spending_values(unique=False):\n",
    "    \n",
    "    #empty dict for writing json output\n",
    "    output_to_js = {}\n",
    "    \n",
    "    #set to df with duplicates by default. If unique == True then use df without duplicates\n",
    "    df = ad_df\n",
    "    if unique == True:\n",
    "        df = unique_ad_df\n",
    "        \n",
    "    #loop through features in ad_features    \n",
    "    for feature in ad_features:\n",
    "        \n",
    "        if feature == 'general': #select the whole df for the 'general' feature\n",
    "            spending_series = df['AdSpending']\n",
    "        else:\n",
    "            spending_series = df.loc[ad_df[feature]==1, 'AdSpending'] #select only entries positive for feature\n",
    "        \n",
    "        \n",
    "        # create dict for spending amount categories\n",
    "        spending_dict = spending_series.value_counts().sort_values(ascending=False).to_dict()\n",
    "        \n",
    "        spending_key = f'{feature}spending'\n",
    "        if unique == True:\n",
    "            spending_key = f'Unique{feature}spending'\n",
    "        \n",
    "        output_to_js.update({spending_key: spending_dict})\n",
    "    return output_to_js\n",
    "    #write json into .js for static loading onto page\n",
    "#     with open('../adSpending.js', 'w') as outfile:\n",
    "#         json.dump(output_to_js, outfile)"
   ]
  },
  {
   "cell_type": "code",
   "execution_count": 123,
   "metadata": {
    "scrolled": true
   },
   "outputs": [
    {
     "data": {
      "text/plain": [
       "{'positivityspending': {99: 3958,\n",
       "  199: 36,\n",
       "  299: 17,\n",
       "  399: 3,\n",
       "  499: 2,\n",
       "  599: 2,\n",
       "  999: 1,\n",
       "  1999: 1},\n",
       " 'toxicityspending': {99: 571, 199: 14, 399: 2},\n",
       " 'insultspending': {99: 1438,\n",
       "  199: 19,\n",
       "  399: 6,\n",
       "  299: 4,\n",
       "  499: 1,\n",
       "  599: 1,\n",
       "  1999: 1},\n",
       " 'generalspending': {99: 9601,\n",
       "  199: 202,\n",
       "  299: 79,\n",
       "  399: 45,\n",
       "  499: 13,\n",
       "  699: 13,\n",
       "  599: 13,\n",
       "  1499: 10,\n",
       "  999: 6,\n",
       "  899: 5,\n",
       "  2499: 3,\n",
       "  799: 3,\n",
       "  1999: 3,\n",
       "  2999: 2,\n",
       "  4499: 1,\n",
       "  6999: 1}}"
      ]
     },
     "execution_count": 123,
     "metadata": {},
     "output_type": "execute_result"
    }
   ],
   "source": [
    "spending_values()"
   ]
  },
  {
   "cell_type": "code",
   "execution_count": 124,
   "metadata": {},
   "outputs": [],
   "source": [
    "def impressions_values(unique=False):\n",
    "    \n",
    "    #empty dict for writing json output\n",
    "    output_to_js = {}\n",
    "    \n",
    "    #set to df with duplicates by default. If unique == True then use df without duplicates\n",
    "    df = ad_df\n",
    "    if unique == True:\n",
    "        df = unique_ad_df\n",
    "        \n",
    "    #loop through features in ad_features    \n",
    "    for feature in ad_features:\n",
    "        \n",
    "        if feature == 'general': #select the whole df for the 'general' feature\n",
    "            impressions_series = df['Impressions']\n",
    "        else:\n",
    "            impressions_series = df.loc[ad_df[feature]==1, 'Impressions'] #select only entries positive for feature\n",
    "        \n",
    "        \n",
    "        # create dict for spending amount categories\n",
    "        impressions_dict = impressions_series.value_counts().sort_values(ascending=False).to_dict()\n",
    "        \n",
    "        impressions_key = f'{feature}Impressions'\n",
    "        if unique == True:\n",
    "            impressions_key = f'Unique{feature}Impressions'\n",
    "        \n",
    "        output_to_js.update({impressions_key: impressions_dict})\n",
    "    return output_to_js"
   ]
  },
  {
   "cell_type": "code",
   "execution_count": 125,
   "metadata": {},
   "outputs": [
    {
     "data": {
      "text/plain": [
       "{'positivityImpressions': {999: 3264,\n",
       "  1999: 340,\n",
       "  2999: 136,\n",
       "  3999: 86,\n",
       "  4999: 43,\n",
       "  5999: 33,\n",
       "  14999: 31,\n",
       "  6999: 18,\n",
       "  7999: 13,\n",
       "  19999: 13,\n",
       "  8999: 10,\n",
       "  9999: 9,\n",
       "  24999: 8,\n",
       "  39999: 6,\n",
       "  29999: 4,\n",
       "  34999: 3,\n",
       "  124999: 2,\n",
       "  44999: 1},\n",
       " 'toxicityImpressions': {999: 470,\n",
       "  1999: 50,\n",
       "  2999: 29,\n",
       "  3999: 15,\n",
       "  4999: 8,\n",
       "  14999: 3,\n",
       "  5999: 3,\n",
       "  8999: 2,\n",
       "  7999: 2,\n",
       "  6999: 2,\n",
       "  39999: 1,\n",
       "  69999: 1,\n",
       "  9999: 1},\n",
       " 'insultImpressions': {999: 1173,\n",
       "  1999: 129,\n",
       "  2999: 51,\n",
       "  3999: 34,\n",
       "  5999: 15,\n",
       "  4999: 13,\n",
       "  6999: 10,\n",
       "  14999: 9,\n",
       "  19999: 7,\n",
       "  9999: 6,\n",
       "  7999: 5,\n",
       "  8999: 5,\n",
       "  39999: 4,\n",
       "  29999: 2,\n",
       "  24999: 2,\n",
       "  34999: 1,\n",
       "  49999: 1,\n",
       "  59999: 1,\n",
       "  69999: 1,\n",
       "  124999: 1},\n",
       " 'generalImpressions': {999: 7741,\n",
       "  1999: 920,\n",
       "  2999: 335,\n",
       "  3999: 223,\n",
       "  5999: 123,\n",
       "  14999: 123,\n",
       "  4999: 120,\n",
       "  6999: 67,\n",
       "  7999: 62,\n",
       "  19999: 49,\n",
       "  8999: 48,\n",
       "  24999: 43,\n",
       "  9999: 32,\n",
       "  29999: 27,\n",
       "  39999: 17,\n",
       "  34999: 15,\n",
       "  44999: 8,\n",
       "  59999: 7,\n",
       "  69999: 6,\n",
       "  124999: 5,\n",
       "  174999: 5,\n",
       "  149999: 5,\n",
       "  49999: 4,\n",
       "  79999: 4,\n",
       "  99999: 3,\n",
       "  89999: 3,\n",
       "  249999: 2,\n",
       "  199999: 1,\n",
       "  449999: 1,\n",
       "  399999: 1}}"
      ]
     },
     "execution_count": 125,
     "metadata": {},
     "output_type": "execute_result"
    }
   ],
   "source": [
    "impressions_values()"
   ]
  },
  {
   "cell_type": "code",
   "execution_count": 110,
   "metadata": {},
   "outputs": [
    {
     "data": {
      "text/plain": [
       "<matplotlib.axes._subplots.AxesSubplot at 0x13d66d3c8>"
      ]
     },
     "execution_count": 110,
     "metadata": {},
     "output_type": "execute_result"
    },
    {
     "data": {
      "image/png": "[encoded data removed]",
      "text/plain": [
       "<Figure size 432x288 with 1 Axes>"
      ]
     },
     "metadata": {},
     "output_type": "display_data"
    }
   ],
   "source": [
    "#plotting averages\n",
    "\n",
    "ad_df['Impressions'].value_counts().sort_values(ascending=False).plot.pie()"
   ]
  },
  {
   "cell_type": "code",
   "execution_count": null,
   "metadata": {},
   "outputs": [],
   "source": []
  }
 ],
 "metadata": {
  "kernelspec": {
   "display_name": "Python 3.6.7 64-bit ('PythonData': conda)",
   "language": "python",
   "name": "python36764bitpythondatacondac93f1d0824da4ea88fdc3c2e1b2950d1"
  },
  "language_info": {
   "codemirror_mode": {
    "name": "ipython",
    "version": 3
   },
   "file_extension": ".py",
   "mimetype": "text/x-python",
   "name": "python",
   "nbconvert_exporter": "python",
   "pygments_lexer": "ipython3",
   "version": "3.6.7"
  }
 },
 "nbformat": 4,
 "nbformat_minor": 2
}
