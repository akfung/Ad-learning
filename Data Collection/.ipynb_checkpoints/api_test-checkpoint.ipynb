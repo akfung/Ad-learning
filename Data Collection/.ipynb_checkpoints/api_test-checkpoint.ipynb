{
 "cells": [
  {
   "cell_type": "code",
   "execution_count": 2,
   "metadata": {},
   "outputs": [],
   "source": [
    "#dependencies\n",
    "import requests\n",
    "import pandas as pd\n",
    "from config import fb_key\n",
    "import numpy as np\n",
    "\n",
    "ad_attributes = ['id', 'ad_snapshot_url', 'ad_creative_body', 'page_name', 'demographic_distribution', 'impressions', 'currency', 'spend']\n"
   ]
  },
  {
   "cell_type": "code",
   "execution_count": 3,
   "metadata": {},
   "outputs": [],
   "source": [
    "# fb_ad_api class object for querying api\n",
    "class fb_ad_api:\n",
    "    def __init__(self, search='\"\"'):\n",
    "        #initialize object to contain lists for ad attributes\n",
    "        self.id = []\n",
    "        self.ad_snapshot_url = []\n",
    "        self.ad_creative_body = []\n",
    "        self.page_name = []\n",
    "        self.demographic_distribution = []\n",
    "        self.impressions = []\n",
    "        self.currency = []\n",
    "        self.spend = []\n",
    "        #list comprehension from ad_attributes list to set returned attributes\n",
    "        self.params = {\n",
    "            'fields': ','.join(attribute for attribute in ad_attributes), \n",
    "            'ad_reached_countries': 'US', #countries where the ad is available\n",
    "            'access_token': fb_key, #access token\n",
    "            # 'ad_active_status': 'ALL',\n",
    "            'limit': 100 #results per page\n",
    "            }\n",
    "        self.params.update({'search_terms': search}) #add search term to params if one is provided\n",
    "        self.base_url = 'https://graph.facebook.com/v6.0/ads_archive?' #set base API URL\n",
    "        self.ad_attributes = ['id', 'ad_snapshot_url', 'ad_creative_body', 'page_name', 'demographic_distribution', 'impressions', 'currency', 'spend']\n",
    "    \n",
    "    def call_api(self): #function to call api\n",
    "        page_counter = 1\n",
    "        page_limit = 100 # max num of pages to pull data from\n",
    "        url = self.base_url\n",
    "\n",
    "        \n",
    "        while page_counter <= page_limit:\n",
    "            print('Pulling page:' + str(page_counter)) # so you can know what's up\n",
    "            #only include parameters for api call on page 1\n",
    "            if page_counter == 1:\n",
    "                response = requests.get(url, params = self.params).json()\n",
    "            else:\n",
    "                response = requests.get(url).json()\n",
    "                \n",
    "            results = response['data']\n",
    "            \n",
    "            for ad in results: #loop through each ad in api response page and append to attribute lists\n",
    "                for attr in ad_attributes: #loop through each ad attribute and append to a list if present. Appends NaN if not present\n",
    "                    if f'{attr}' in ad:\n",
    "                        getattr(self, f'{attr}').append(ad[f'{attr}'])\n",
    "                    else:\n",
    "                        getattr(self, f'{attr}').append(np.nan)\n",
    "            \n",
    "            # break the loop if there isn't another page        \n",
    "            if not(response['paging']['next']):\n",
    "                break\n",
    "\n",
    "            # set next api url according to paginated response    \n",
    "            url = response['paging']['next']\n",
    "            page_counter += 1\n",
    "            \n",
    "\n",
    "    # make pandas df\n",
    "    def make_df(self):\n",
    "        results_df = pd.DataFrame({\n",
    "            'Ad ID': self.id,\n",
    "            'Ad URL': self.ad_snapshot_url,\n",
    "            'Ad Text': self.ad_creative_body,\n",
    "            'Hosted Page': self.page_name,\n",
    "            'Impressions': self.impressions,\n",
    "            'Currency': self.currency,\n",
    "            'Ad Spending': self.spend\n",
    "        })\n",
    "\n",
    "        return results_df\n",
    "        "
   ]
  },
  {
   "cell_type": "code",
   "execution_count": null,
   "metadata": {
    "tags": [
     "outputPrepend"
    ]
   },
   "outputs": [
    {
     "name": "stdout",
     "output_type": "stream",
     "text": [
      "Pulling page:1\n",
      "Pulling page:2\n",
      "Pulling page:3\n",
      "Pulling page:4\n",
      "Pulling page:5\n",
      "Pulling page:6\n",
      "Pulling page:7\n",
      "Pulling page:8\n",
      "Pulling page:9\n",
      "Pulling page:10\n",
      "Pulling page:11\n",
      "Pulling page:12\n",
      "Pulling page:13\n",
      "Pulling page:14\n",
      "Pulling page:15\n",
      "Pulling page:16\n",
      "Pulling page:17\n",
      "Pulling page:18\n",
      "Pulling page:19\n",
      "Pulling page:20\n",
      "Pulling page:21\n",
      "Pulling page:22\n",
      "Pulling page:23\n",
      "Pulling page:24\n",
      "Pulling page:25\n",
      "Pulling page:26\n",
      "Pulling page:27\n",
      "Pulling page:28\n",
      "Pulling page:29\n",
      "Pulling page:30\n",
      "Pulling page:31\n",
      "Pulling page:32\n",
      "Pulling page:33\n",
      "Pulling page:34\n"
     ]
    }
   ],
   "source": [
    "search_results = fb_ad_api()\n",
    "search_results.call_api()"
   ]
  },
  {
   "cell_type": "code",
   "execution_count": 23,
   "metadata": {},
   "outputs": [],
   "source": [
    "ads_df = search_results.make_df()"
   ]
  },
  {
   "cell_type": "code",
   "execution_count": 25,
   "metadata": {},
   "outputs": [],
   "source": [
    "ads_df.to_csv('api_results.csv')"
   ]
  },
  {
   "cell_type": "code",
   "execution_count": 24,
   "metadata": {},
   "outputs": [
    {
     "data": {
      "text/plain": [
       "(10000, 7)"
      ]
     },
     "execution_count": 24,
     "metadata": {},
     "output_type": "execute_result"
    }
   ],
   "source": [
    "ads_df.shape"
   ]
  },
  {
   "cell_type": "code",
   "execution_count": null,
   "metadata": {},
   "outputs": [],
   "source": []
  }
 ],
 "metadata": {
  "kernelspec": {
   "display_name": "Python 3.6.7 64-bit ('PythonData': conda)",
   "language": "python",
   "name": "python36764bitpythondatacondac93f1d0824da4ea88fdc3c2e1b2950d1"
  },
  "language_info": {
   "codemirror_mode": {
    "name": "ipython",
    "version": 3
   },
   "file_extension": ".py",
   "mimetype": "text/x-python",
   "name": "python",
   "nbconvert_exporter": "python",
   "pygments_lexer": "ipython3",
   "version": "3.6.7"
  }
 },
 "nbformat": 4,
 "nbformat_minor": 2
}
