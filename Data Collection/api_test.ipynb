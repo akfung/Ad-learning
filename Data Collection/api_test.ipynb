{
 "cells": [
  {
   "cell_type": "code",
   "execution_count": 1,
   "metadata": {},
   "outputs": [],
   "source": [
    "#dependencies\n",
    "import requests\n",
    "import pandas as pd\n",
    "from config import fb_key\n",
    "import numpy as np\n",
    "\n",
    "ad_attributes = ['id', 'ad_snapshot_url', 'ad_creative_body', 'page_name', 'demographic_distribution', 'impressions', 'currency', 'spend']\n"
   ]
  },
  {
   "cell_type": "code",
   "execution_count": 21,
   "metadata": {},
   "outputs": [],
   "source": [
    "# fb_ad_api class object for querying api\n",
    "class fb_ad_api:\n",
    "    def __init__(self, search='\"\"'):\n",
    "        #initialize object to contain lists for ad attributes\n",
    "        self.id = []\n",
    "        self.ad_snapshot_url = []\n",
    "        self.ad_creative_body = []\n",
    "        self.page_name = []\n",
    "        self.demographic_distribution = []\n",
    "        self.impressions = []\n",
    "        self.currency = []\n",
    "        self.spend = []\n",
    "        #list comprehension from ad_attributes list to set returned attributes\n",
    "        self.params = {\n",
    "            'fields': ','.join(attribute for attribute in ad_attributes), \n",
    "            'ad_reached_countries': 'US', #countries where the ad is available\n",
    "            'access_token': fb_key, #access token\n",
    "            # 'ad_active_status': 'ALL',\n",
    "            'limit': 100 #results per page\n",
    "            }\n",
    "        self.params.update({'search_terms': search}) #add search term to params if one is provided\n",
    "        self.base_url = 'https://graph.facebook.com/v6.0/ads_archive?' #set base API URL\n",
    "        self.ad_attributes = ['id', 'ad_snapshot_url', 'ad_creative_body', 'page_name', 'demographic_distribution', 'impressions', 'currency', 'spend']\n",
    "    \n",
    "    def call_api(self): #function to call api\n",
    "        page_counter = 1\n",
    "        page_limit = 100 # max num of pages to pull data from\n",
    "        url = self.base_url\n",
    "\n",
    "        \n",
    "        while page_counter <= page_limit:\n",
    "            print('Pulling page:' + str(page_counter)) # so you can know what's up\n",
    "            #only include parameters for api call on page 1\n",
    "            if page_counter == 1:\n",
    "                response = requests.get(url, params = self.params).json()\n",
    "            else:\n",
    "                response = requests.get(url).json()\n",
    "                \n",
    "            results = response['data']\n",
    "            \n",
    "            for ad in results: #loop through each ad in api response page and append to attribute lists\n",
    "                for attr in ad_attributes: #loop through each ad attribute and append to a list if present. Appends NaN if not present\n",
    "                    if f'{attr}' in ad:\n",
    "                        getattr(self, f'{attr}').append(ad[f'{attr}'])\n",
    "                    else:\n",
    "                        getattr(self, f'{attr}').append(np.nan)\n",
    "            \n",
    "            # break the loop if there isn't another page        \n",
    "            if not(response['paging']['next']):\n",
    "                break\n",
    "\n",
    "            # set next api url according to paginated response    \n",
    "            url = response['paging']['next']\n",
    "            page_counter += 1\n",
    "            \n",
    "\n",
    "    # make pandas df\n",
    "    def make_df(self):\n",
    "        results_df = pd.DataFrame({\n",
    "            'Ad ID': self.id,\n",
    "            'Ad URL': self.ad_snapshot_url,\n",
    "            'Ad Text': self.ad_creative_body,\n",
    "            'Hosted Page': self.page_name,\n",
    "            'Impressions': self.impressions,\n",
    "            'Currency': self.currency,\n",
    "            'Ad Spending': self.spend\n",
    "        })\n",
    "\n",
    "        return results_df\n",
    "        "
   ]
  },
  {
   "cell_type": "code",
   "execution_count": 22,
   "metadata": {
    "tags": [
     "outputPrepend"
    ]
   },
   "outputs": [
    {
     "output_type": "stream",
     "name": "stdout",
     "text": "Pulling page:1\nPulling page:2\nPulling page:3\nPulling page:4\nPulling page:5\nPulling page:6\nPulling page:7\nPulling page:8\nPulling page:9\nPulling page:10\nPulling page:11\nPulling page:12\nPulling page:13\nPulling page:14\nPulling page:15\nPulling page:16\nPulling page:17\nPulling page:18\nPulling page:19\nPulling page:20\nPulling page:21\nPulling page:22\nPulling page:23\nPulling page:24\nPulling page:25\nPulling page:26\nPulling page:27\nPulling page:28\nPulling page:29\nPulling page:30\nPulling page:31\nPulling page:32\nPulling page:33\nPulling page:34\nPulling page:35\nPulling page:36\nPulling page:37\nPulling page:38\nPulling page:39\nPulling page:40\nPulling page:41\nPulling page:42\nPulling page:43\nPulling page:44\nPulling page:45\nPulling page:46\nPulling page:47\nPulling page:48\nPulling page:49\nPulling page:50\nPulling page:51\nPulling page:52\nPulling page:53\nPulling page:54\nPulling page:55\nPulling page:56\nPulling page:57\nPulling page:58\nPulling page:59\nPulling page:60\nPulling page:61\nPulling page:62\nPulling page:63\nPulling page:64\nPulling page:65\nPulling page:66\nPulling page:67\nPulling page:68\nPulling page:69\nPulling page:70\nPulling page:71\nPulling page:72\nPulling page:73\nPulling page:74\nPulling page:75\nPulling page:76\nPulling page:77\nPulling page:78\nPulling page:79\nPulling page:80\nPulling page:81\nPulling page:82\nPulling page:83\nPulling page:84\nPulling page:85\nPulling page:86\nPulling page:87\nPulling page:88\nPulling page:89\nPulling page:90\nPulling page:91\nPulling page:92\nPulling page:93\nPulling page:94\nPulling page:95\nPulling page:96\nPulling page:97\nPulling page:98\nPulling page:99\nPulling page:100\n"
    }
   ],
   "source": [
    "search_results = fb_ad_api()\n",
    "search_results.call_api()"
   ]
  },
  {
   "cell_type": "code",
   "execution_count": 23,
   "metadata": {},
   "outputs": [],
   "source": [
    "ads_df = search_results.make_df()"
   ]
  },
  {
   "cell_type": "code",
   "execution_count": 25,
   "metadata": {},
   "outputs": [],
   "source": [
    "ads_df.to_csv('political_ads_20200502')"
   ]
  },
  {
   "cell_type": "code",
   "execution_count": 24,
   "metadata": {},
   "outputs": [
    {
     "output_type": "execute_result",
     "data": {
      "text/plain": "(10000, 7)"
     },
     "metadata": {},
     "execution_count": 24
    }
   ],
   "source": [
    "ads_df.shape"
   ]
  },
  {
   "cell_type": "code",
   "execution_count": null,
   "metadata": {},
   "outputs": [],
   "source": []
  }
 ],
 "metadata": {
  "language_info": {
   "codemirror_mode": {
    "name": "ipython",
    "version": 3
   },
   "file_extension": ".py",
   "mimetype": "text/x-python",
   "name": "python",
   "nbconvert_exporter": "python",
   "pygments_lexer": "ipython3",
   "version": "3.6.7-final"
  },
  "orig_nbformat": 2,
  "kernelspec": {
   "name": "python36764bitpythondatacondac93f1d0824da4ea88fdc3c2e1b2950d1",
   "display_name": "Python 3.6.7 64-bit ('PythonData': conda)"
  }
 },
 "nbformat": 4,
 "nbformat_minor": 2
}