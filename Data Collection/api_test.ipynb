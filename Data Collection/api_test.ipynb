{
 "cells": [
  {
   "cell_type": "code",
   "execution_count": 10,
   "metadata": {},
   "outputs": [],
   "source": [
    "import requests\n",
    "from config import fb_key\n",
    "\n",
    "\n",
    "id = []\n",
    "ad_snapshot_url = [] #url link to ad image\n",
    "ad_creative_body = [] #text underneath ad\n",
    "page_name = [] #name of page where ad is hosted\n",
    "demographic_distribution = [] #age demographics\n",
    "impressions = [] #essentially views\n",
    "currency = [] #currency used to buy ad\n",
    "spend = [] #spending on ad\n",
    "\n"
   ]
  },
  {
   "cell_type": "code",
   "execution_count": 11,
   "metadata": {},
   "outputs": [],
   "source": [
    "params = {\n",
    "    'search_terms': 'california',\n",
    "    'fields': 'id,ad_snapshot_url,ad_creative_body,page_name,demographic_distribution,impressions,currency,spend', #no spaces between fields\n",
    "    'ad_reached_countries': 'US', #countries where the ad is available\n",
    "    'access_token': fb_key #access token\n",
    "    }\n",
    "    \n",
    "base_url = 'https://graph.facebook.com/v6.0/ads_archive?'\n"
   ]
  },
  {
   "cell_type": "code",
   "execution_count": null,
   "metadata": {
    "tags": [
     "outputPrepend"
    ]
   },
   "outputs": [],
   "source": [
    "response = requests.get(base_url, params = params).json()\n",
    "results = response.data"
   ]
  },
  {
   "cell_type": "code",
   "execution_count": null,
   "metadata": {
    "tags": [
     "outputPrepend"
    ]
   },
   "outputs": [],
   "source": [
    "for ad in response:\n",
    "    print(ad)"
   ]
  },
  {
   "cell_type": "code",
   "execution_count": null,
   "metadata": {},
   "outputs": [],
   "source": []
  }
 ],
 "metadata": {
  "language_info": {
   "codemirror_mode": {
    "name": "ipython",
    "version": 3
   },
   "file_extension": ".py",
   "mimetype": "text/x-python",
   "name": "python",
   "nbconvert_exporter": "python",
   "pygments_lexer": "ipython3",
   "version": "3.6.7-final"
  },
  "orig_nbformat": 2,
  "kernelspec": {
   "name": "python36764bitpythondatacondac93f1d0824da4ea88fdc3c2e1b2950d1",
   "display_name": "Python 3.6.7 64-bit ('PythonData': conda)"
  }
 },
 "nbformat": 4,
 "nbformat_minor": 2
}