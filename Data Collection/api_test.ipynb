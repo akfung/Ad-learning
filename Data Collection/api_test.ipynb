{
 "cells": [
  {
   "cell_type": "code",
   "execution_count": 112,
   "metadata": {},
   "outputs": [],
   "source": [
    "#dependencies\n",
    "import requests\n",
    "import pandas as pd\n",
    "from config import fb_key\n",
    "import numpy as np\n",
    "\n",
    "ad_attributes = ['id', 'ad_snapshot_url', 'ad_creative_body', 'page_name', 'demographic_distribution', 'impressions', 'currency', 'spend']"
   ]
  },
  {
   "cell_type": "code",
   "execution_count": 118,
   "metadata": {},
   "outputs": [],
   "source": [
    "# fb_ad_api class object for querying api\n",
    "class fb_ad_api:\n",
    "    def __init__(self, search='\"\"'):\n",
    "        #initialize object to contain lists for ad attributes\n",
    "        self.id = []\n",
    "        self.ad_snapshot_url = []\n",
    "        self.ad_creative_body = []\n",
    "        self.page_name = []\n",
    "        self.demographic_distribution = []\n",
    "        self.impressions = []\n",
    "        self.currency = []\n",
    "        self.spend = []\n",
    "        #list comprehension from ad_attributes list to set returned attributes\n",
    "        self.params = {\n",
    "            'fields': ','.join(attribute for attribute in ad_attributes), \n",
    "            'ad_reached_countries': 'US', #countries where the ad is available\n",
    "            'access_token': fb_key, #access token\n",
    "            # 'ad_active_status': 'ALL',\n",
    "            'limit': 100\n",
    "            }\n",
    "        self.params.update({'search_terms': search}) #add search term to params if one is provided\n",
    "        self.base_url = 'https://graph.facebook.com/v6.0/ads_archive?' #set base API URL\n",
    "    \n",
    "    def call_api(self): #function to call api\n",
    "        page_counter = 1\n",
    "        page_limit = 3 # max num of pages to pull data from\n",
    "        url = self.base_url\n",
    "\n",
    "        while page_counter <= page_limit:\n",
    "\n",
    "            #only include parameters for api call on page 1\n",
    "            if page_counter == 1:\n",
    "                response = requests.get(url, params = self.params).json()\n",
    "            else:\n",
    "                response = requests.get(url).json()\n",
    "                \n",
    "            results = response['data']\n",
    "\n",
    "            \n",
    "            for ad in results: #loop through each ad in api response page and append to attribute lists\n",
    "                for attr in ad_attributes: #loop through each ad attribute and append to a list if present. Appends NaN if not present\n",
    "                    if ad[f'{attr}']:\n",
    "                        getattr(self, f'{attr}').append(ad[f'{attr}'])\n",
    "                    else:\n",
    "                        getattr(self, f'{attr}').append(np.nan)\n",
    "                # try: \n",
    "                #     self.id.append(ad['id'])\n",
    "                #     self.ad_snapshot_url.append(ad['ad_snapshot_url'])\n",
    "                #     self.ad_creative_body.append(ad['ad_creative_body'])\n",
    "                #     self.page_name.append(ad['page_name'])\n",
    "                #     self.demographic_distribution.append(ad['demographic_distribution'])\n",
    "                #     self.impressions.append(ad['impressions']['upper_bound'])\n",
    "                #     self.currency.append(ad['currency'])\n",
    "                #     self.spend.append(ad['spend']['upper_bound'])\n",
    "                # except:\n",
    "                #     break\n",
    "\n",
    "            # break the loop if there isn't another page        \n",
    "            if not(response['paging']['next']):\n",
    "                break\n",
    "\n",
    "            # set next api url according to paginated response    \n",
    "            url = response['paging']['next']\n",
    "            page_counter += 1\n",
    "            print('Pulling page:' + str(page_counter))\n",
    "\n",
    "    # make pandas df\n",
    "    def make_df(self):\n",
    "        results_df = pd.DataFrame({\n",
    "            'Ad ID': self.id,\n",
    "            'Ad URL': self.ad_snapshot_url,\n",
    "            'Ad Text': self.ad_creative_body,\n",
    "            'Hosted Page': self.page_name,\n",
    "            'Impressions': self.impressions,\n",
    "            'Currency': self.currency,\n",
    "            'Ad Spending': self.spend\n",
    "        })\n",
    "\n",
    "        return results_df\n",
    "        "
   ]
  },
  {
   "cell_type": "code",
   "execution_count": 119,
   "metadata": {
    "tags": [
     "outputPrepend"
    ]
   },
   "outputs": [
    {
     "output_type": "stream",
     "name": "stdout",
     "text": "Pulling page:2\nPulling page:3\nPulling page:4\n"
    }
   ],
   "source": [
    "search_results = fb_ad_api()\n",
    "search_results.call_api()"
   ]
  },
  {
   "cell_type": "code",
   "execution_count": 123,
   "metadata": {},
   "outputs": [
    {
     "output_type": "execute_result",
     "data": {
      "text/plain": "               Ad ID                                             Ad URL  \\\n0    161547868597338  https://www.facebook.com/ads/archive/render_ad...   \n1    231634031267946  https://www.facebook.com/ads/archive/render_ad...   \n2    233098731244956  https://www.facebook.com/ads/archive/render_ad...   \n3    246740140011738  https://www.facebook.com/ads/archive/render_ad...   \n4    290585385271290  https://www.facebook.com/ads/archive/render_ad...   \n..               ...                                                ...   \n295  676305369814678  https://www.facebook.com/ads/archive/render_ad...   \n296  678090156345207  https://www.facebook.com/ads/archive/render_ad...   \n297  678855926282815  https://www.facebook.com/ads/archive/render_ad...   \n298  695805207859555  https://www.facebook.com/ads/archive/render_ad...   \n299  708524396355811  https://www.facebook.com/ads/archive/render_ad...   \n\n                                               Ad Text            Hosted Page  \\\n0                                    {{product.brand}}  Vote Yes for Fair Tax   \n1                                    {{product.brand}}  Vote Yes for Fair Tax   \n2                                    {{product.brand}}  Vote Yes for Fair Tax   \n3                                    {{product.brand}}  Vote Yes for Fair Tax   \n4                                    {{product.brand}}  Vote Yes for Fair Tax   \n..                                                 ...                    ...   \n295  Healthcare and other essential workers are put...                   SEIU   \n296  All workers — especially Black and brown essen...                   SEIU   \n297  El presidente Trump ha fallado. No ha asegurad...                   SEIU   \n298  Healthcare and other essential workers are put...                   SEIU   \n299  All workers — especially Black and brown essen...                   SEIU   \n\n                                        Impressions Currency  \\\n0    {'lower_bound': '1000', 'upper_bound': '1999'}      USD   \n1        {'lower_bound': '0', 'upper_bound': '999'}      USD   \n2        {'lower_bound': '0', 'upper_bound': '999'}      USD   \n3        {'lower_bound': '0', 'upper_bound': '999'}      USD   \n4        {'lower_bound': '0', 'upper_bound': '999'}      USD   \n..                                              ...      ...   \n295      {'lower_bound': '0', 'upper_bound': '999'}      USD   \n296      {'lower_bound': '0', 'upper_bound': '999'}      USD   \n297      {'lower_bound': '0', 'upper_bound': '999'}      USD   \n298      {'lower_bound': '0', 'upper_bound': '999'}      USD   \n299      {'lower_bound': '0', 'upper_bound': '999'}      USD   \n\n                                   Ad Spending  \n0    {'lower_bound': '0', 'upper_bound': '99'}  \n1    {'lower_bound': '0', 'upper_bound': '99'}  \n2    {'lower_bound': '0', 'upper_bound': '99'}  \n3    {'lower_bound': '0', 'upper_bound': '99'}  \n4    {'lower_bound': '0', 'upper_bound': '99'}  \n..                                         ...  \n295  {'lower_bound': '0', 'upper_bound': '99'}  \n296  {'lower_bound': '0', 'upper_bound': '99'}  \n297  {'lower_bound': '0', 'upper_bound': '99'}  \n298  {'lower_bound': '0', 'upper_bound': '99'}  \n299  {'lower_bound': '0', 'upper_bound': '99'}  \n\n[300 rows x 7 columns]",
      "text/html": "<div>\n<style scoped>\n    .dataframe tbody tr th:only-of-type {\n        vertical-align: middle;\n    }\n\n    .dataframe tbody tr th {\n        vertical-align: top;\n    }\n\n    .dataframe thead th {\n        text-align: right;\n    }\n</style>\n<table border=\"1\" class=\"dataframe\">\n  <thead>\n    <tr style=\"text-align: right;\">\n      <th></th>\n      <th>Ad ID</th>\n      <th>Ad URL</th>\n      <th>Ad Text</th>\n      <th>Hosted Page</th>\n      <th>Impressions</th>\n      <th>Currency</th>\n      <th>Ad Spending</th>\n    </tr>\n  </thead>\n  <tbody>\n    <tr>\n      <th>0</th>\n      <td>161547868597338</td>\n      <td>https://www.facebook.com/ads/archive/render_ad...</td>\n      <td>{{product.brand}}</td>\n      <td>Vote Yes for Fair Tax</td>\n      <td>{'lower_bound': '1000', 'upper_bound': '1999'}</td>\n      <td>USD</td>\n      <td>{'lower_bound': '0', 'upper_bound': '99'}</td>\n    </tr>\n    <tr>\n      <th>1</th>\n      <td>231634031267946</td>\n      <td>https://www.facebook.com/ads/archive/render_ad...</td>\n      <td>{{product.brand}}</td>\n      <td>Vote Yes for Fair Tax</td>\n      <td>{'lower_bound': '0', 'upper_bound': '999'}</td>\n      <td>USD</td>\n      <td>{'lower_bound': '0', 'upper_bound': '99'}</td>\n    </tr>\n    <tr>\n      <th>2</th>\n      <td>233098731244956</td>\n      <td>https://www.facebook.com/ads/archive/render_ad...</td>\n      <td>{{product.brand}}</td>\n      <td>Vote Yes for Fair Tax</td>\n      <td>{'lower_bound': '0', 'upper_bound': '999'}</td>\n      <td>USD</td>\n      <td>{'lower_bound': '0', 'upper_bound': '99'}</td>\n    </tr>\n    <tr>\n      <th>3</th>\n      <td>246740140011738</td>\n      <td>https://www.facebook.com/ads/archive/render_ad...</td>\n      <td>{{product.brand}}</td>\n      <td>Vote Yes for Fair Tax</td>\n      <td>{'lower_bound': '0', 'upper_bound': '999'}</td>\n      <td>USD</td>\n      <td>{'lower_bound': '0', 'upper_bound': '99'}</td>\n    </tr>\n    <tr>\n      <th>4</th>\n      <td>290585385271290</td>\n      <td>https://www.facebook.com/ads/archive/render_ad...</td>\n      <td>{{product.brand}}</td>\n      <td>Vote Yes for Fair Tax</td>\n      <td>{'lower_bound': '0', 'upper_bound': '999'}</td>\n      <td>USD</td>\n      <td>{'lower_bound': '0', 'upper_bound': '99'}</td>\n    </tr>\n    <tr>\n      <th>...</th>\n      <td>...</td>\n      <td>...</td>\n      <td>...</td>\n      <td>...</td>\n      <td>...</td>\n      <td>...</td>\n      <td>...</td>\n    </tr>\n    <tr>\n      <th>295</th>\n      <td>676305369814678</td>\n      <td>https://www.facebook.com/ads/archive/render_ad...</td>\n      <td>Healthcare and other essential workers are put...</td>\n      <td>SEIU</td>\n      <td>{'lower_bound': '0', 'upper_bound': '999'}</td>\n      <td>USD</td>\n      <td>{'lower_bound': '0', 'upper_bound': '99'}</td>\n    </tr>\n    <tr>\n      <th>296</th>\n      <td>678090156345207</td>\n      <td>https://www.facebook.com/ads/archive/render_ad...</td>\n      <td>All workers — especially Black and brown essen...</td>\n      <td>SEIU</td>\n      <td>{'lower_bound': '0', 'upper_bound': '999'}</td>\n      <td>USD</td>\n      <td>{'lower_bound': '0', 'upper_bound': '99'}</td>\n    </tr>\n    <tr>\n      <th>297</th>\n      <td>678855926282815</td>\n      <td>https://www.facebook.com/ads/archive/render_ad...</td>\n      <td>El presidente Trump ha fallado. No ha asegurad...</td>\n      <td>SEIU</td>\n      <td>{'lower_bound': '0', 'upper_bound': '999'}</td>\n      <td>USD</td>\n      <td>{'lower_bound': '0', 'upper_bound': '99'}</td>\n    </tr>\n    <tr>\n      <th>298</th>\n      <td>695805207859555</td>\n      <td>https://www.facebook.com/ads/archive/render_ad...</td>\n      <td>Healthcare and other essential workers are put...</td>\n      <td>SEIU</td>\n      <td>{'lower_bound': '0', 'upper_bound': '999'}</td>\n      <td>USD</td>\n      <td>{'lower_bound': '0', 'upper_bound': '99'}</td>\n    </tr>\n    <tr>\n      <th>299</th>\n      <td>708524396355811</td>\n      <td>https://www.facebook.com/ads/archive/render_ad...</td>\n      <td>All workers — especially Black and brown essen...</td>\n      <td>SEIU</td>\n      <td>{'lower_bound': '0', 'upper_bound': '999'}</td>\n      <td>USD</td>\n      <td>{'lower_bound': '0', 'upper_bound': '99'}</td>\n    </tr>\n  </tbody>\n</table>\n<p>300 rows × 7 columns</p>\n</div>"
     },
     "metadata": {},
     "execution_count": 123
    }
   ],
   "source": [
    "search_results.make_df()"
   ]
  },
  {
   "cell_type": "code",
   "execution_count": null,
   "metadata": {},
   "outputs": [],
   "source": []
  }
 ],
 "metadata": {
  "language_info": {
   "codemirror_mode": {
    "name": "ipython",
    "version": 3
   },
   "file_extension": ".py",
   "mimetype": "text/x-python",
   "name": "python",
   "nbconvert_exporter": "python",
   "pygments_lexer": "ipython3",
   "version": "3.6.7-final"
  },
  "orig_nbformat": 2,
  "kernelspec": {
   "name": "python36764bitpythondatacondac93f1d0824da4ea88fdc3c2e1b2950d1",
   "display_name": "Python 3.6.7 64-bit ('PythonData': conda)"
  }
 },
 "nbformat": 4,
 "nbformat_minor": 2
}