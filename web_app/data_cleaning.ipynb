{
 "cells": [
  {
   "cell_type": "code",
   "execution_count": 5,
   "metadata": {},
   "outputs": [],
   "source": [
    "from ads_api import fb_ad_api\n",
    "import pandas as pd\n",
    "import tensorflow as tf\n",
    "import tensorflow_datasets as tfds\n",
    "import ast"
   ]
  },
  {
   "cell_type": "code",
   "execution_count": 4,
   "metadata": {},
   "outputs": [
    {
     "output_type": "stream",
     "name": "stdout",
     "text": "Pulling page:1\nPulling page:2\nPulling page:3\nPulling page:4\nPulling page:5\nPulling page:6\nPulling page:7\nPulling page:8\nPulling page:9\nPulling page:10\n"
    },
    {
     "output_type": "execute_result",
     "data": {
      "text/plain": "              AdID                                              AdURL  \\\n0  161547868597338  https://www.facebook.com/ads/archive/render_ad...   \n1  231634031267946  https://www.facebook.com/ads/archive/render_ad...   \n2  233098731244956  https://www.facebook.com/ads/archive/render_ad...   \n3  246740140011738  https://www.facebook.com/ads/archive/render_ad...   \n4  290585385271290  https://www.facebook.com/ads/archive/render_ad...   \n\n              AdText             HostedPage  \\\n0  {{product.brand}}  Vote Yes for Fair Tax   \n1  {{product.brand}}  Vote Yes for Fair Tax   \n2  {{product.brand}}  Vote Yes for Fair Tax   \n3  {{product.brand}}  Vote Yes for Fair Tax   \n4  {{product.brand}}  Vote Yes for Fair Tax   \n\n                                      Impressions Currency  \\\n0  {'lower_bound': '4000', 'upper_bound': '4999'}      USD   \n1  {'lower_bound': '5000', 'upper_bound': '5999'}      USD   \n2  {'lower_bound': '8000', 'upper_bound': '8999'}      USD   \n3  {'lower_bound': '6000', 'upper_bound': '6999'}      USD   \n4  {'lower_bound': '4000', 'upper_bound': '4999'}      USD   \n\n                                     AdSpending  \n0  {'lower_bound': '100', 'upper_bound': '199'}  \n1  {'lower_bound': '100', 'upper_bound': '199'}  \n2  {'lower_bound': '100', 'upper_bound': '199'}  \n3  {'lower_bound': '100', 'upper_bound': '199'}  \n4     {'lower_bound': '0', 'upper_bound': '99'}  ",
      "text/html": "<div>\n<style scoped>\n    .dataframe tbody tr th:only-of-type {\n        vertical-align: middle;\n    }\n\n    .dataframe tbody tr th {\n        vertical-align: top;\n    }\n\n    .dataframe thead th {\n        text-align: right;\n    }\n</style>\n<table border=\"1\" class=\"dataframe\">\n  <thead>\n    <tr style=\"text-align: right;\">\n      <th></th>\n      <th>AdID</th>\n      <th>AdURL</th>\n      <th>AdText</th>\n      <th>HostedPage</th>\n      <th>Impressions</th>\n      <th>Currency</th>\n      <th>AdSpending</th>\n    </tr>\n  </thead>\n  <tbody>\n    <tr>\n      <th>0</th>\n      <td>161547868597338</td>\n      <td>https://www.facebook.com/ads/archive/render_ad...</td>\n      <td>{{product.brand}}</td>\n      <td>Vote Yes for Fair Tax</td>\n      <td>{'lower_bound': '4000', 'upper_bound': '4999'}</td>\n      <td>USD</td>\n      <td>{'lower_bound': '100', 'upper_bound': '199'}</td>\n    </tr>\n    <tr>\n      <th>1</th>\n      <td>231634031267946</td>\n      <td>https://www.facebook.com/ads/archive/render_ad...</td>\n      <td>{{product.brand}}</td>\n      <td>Vote Yes for Fair Tax</td>\n      <td>{'lower_bound': '5000', 'upper_bound': '5999'}</td>\n      <td>USD</td>\n      <td>{'lower_bound': '100', 'upper_bound': '199'}</td>\n    </tr>\n    <tr>\n      <th>2</th>\n      <td>233098731244956</td>\n      <td>https://www.facebook.com/ads/archive/render_ad...</td>\n      <td>{{product.brand}}</td>\n      <td>Vote Yes for Fair Tax</td>\n      <td>{'lower_bound': '8000', 'upper_bound': '8999'}</td>\n      <td>USD</td>\n      <td>{'lower_bound': '100', 'upper_bound': '199'}</td>\n    </tr>\n    <tr>\n      <th>3</th>\n      <td>246740140011738</td>\n      <td>https://www.facebook.com/ads/archive/render_ad...</td>\n      <td>{{product.brand}}</td>\n      <td>Vote Yes for Fair Tax</td>\n      <td>{'lower_bound': '6000', 'upper_bound': '6999'}</td>\n      <td>USD</td>\n      <td>{'lower_bound': '100', 'upper_bound': '199'}</td>\n    </tr>\n    <tr>\n      <th>4</th>\n      <td>290585385271290</td>\n      <td>https://www.facebook.com/ads/archive/render_ad...</td>\n      <td>{{product.brand}}</td>\n      <td>Vote Yes for Fair Tax</td>\n      <td>{'lower_bound': '4000', 'upper_bound': '4999'}</td>\n      <td>USD</td>\n      <td>{'lower_bound': '0', 'upper_bound': '99'}</td>\n    </tr>\n  </tbody>\n</table>\n</div>"
     },
     "metadata": {},
     "execution_count": 4
    }
   ],
   "source": [
    "ad_results = fb_ad_api()\n",
    "#call the API and get 10 pages of 100 results each\n",
    "ad_results.call_api(page_limit=100)\n",
    "ad_df = ad_results.make_df()"
   ]
  },
  {
   "cell_type": "code",
   "execution_count": 29,
   "metadata": {},
   "outputs": [
    {
     "output_type": "error",
     "ename": "TypeError",
     "evalue": "'int' object is not subscriptable",
     "traceback": [
      "\u001b[0;31m---------------------------------------------------------------------------\u001b[0m",
      "\u001b[0;31mTypeError\u001b[0m                                 Traceback (most recent call last)",
      "\u001b[0;32m<ipython-input-29-4a39e61fca33>\u001b[0m in \u001b[0;36m<module>\u001b[0;34m\u001b[0m\n\u001b[1;32m      4\u001b[0m     \u001b[0msample_dict\u001b[0m \u001b[0;34m=\u001b[0m \u001b[0mast\u001b[0m\u001b[0;34m.\u001b[0m\u001b[0mliteral_eval\u001b[0m\u001b[0;34m(\u001b[0m\u001b[0mstr\u001b[0m\u001b[0;34m(\u001b[0m\u001b[0msample\u001b[0m\u001b[0;34m)\u001b[0m\u001b[0;34m)\u001b[0m\u001b[0;34m\u001b[0m\u001b[0;34m\u001b[0m\u001b[0m\n\u001b[1;32m      5\u001b[0m     \u001b[0;32mreturn\u001b[0m \u001b[0msample_dict\u001b[0m\u001b[0;34m[\u001b[0m\u001b[0;34m'upper_bound'\u001b[0m\u001b[0;34m]\u001b[0m\u001b[0;34m\u001b[0m\u001b[0;34m\u001b[0m\u001b[0m\n\u001b[0;32m----> 6\u001b[0;31m \u001b[0mad_df\u001b[0m\u001b[0;34m[\u001b[0m\u001b[0;34m'Impressions'\u001b[0m\u001b[0;34m]\u001b[0m \u001b[0;34m=\u001b[0m \u001b[0mad_df\u001b[0m\u001b[0;34m[\u001b[0m\u001b[0;34m'Impressions'\u001b[0m\u001b[0;34m]\u001b[0m\u001b[0;34m.\u001b[0m\u001b[0mmap\u001b[0m\u001b[0;34m(\u001b[0m\u001b[0mremove_dict\u001b[0m\u001b[0;34m)\u001b[0m\u001b[0;34m\u001b[0m\u001b[0;34m\u001b[0m\u001b[0m\n\u001b[0m\u001b[1;32m      7\u001b[0m \u001b[0mad_df\u001b[0m\u001b[0;34m[\u001b[0m\u001b[0;34m'AdSpending'\u001b[0m\u001b[0;34m]\u001b[0m \u001b[0;34m=\u001b[0m \u001b[0mad_df\u001b[0m\u001b[0;34m[\u001b[0m\u001b[0;34m'AdSpending'\u001b[0m\u001b[0;34m]\u001b[0m\u001b[0;34m.\u001b[0m\u001b[0mmap\u001b[0m\u001b[0;34m(\u001b[0m\u001b[0mremove_dict\u001b[0m\u001b[0;34m)\u001b[0m\u001b[0;34m\u001b[0m\u001b[0;34m\u001b[0m\u001b[0m\n",
      "\u001b[0;32m~/miniconda3/envs/PythonData/lib/python3.6/site-packages/pandas/core/series.py\u001b[0m in \u001b[0;36mmap\u001b[0;34m(self, arg, na_action)\u001b[0m\n\u001b[1;32m   3826\u001b[0m         \u001b[0mdtype\u001b[0m\u001b[0;34m:\u001b[0m \u001b[0mobject\u001b[0m\u001b[0;34m\u001b[0m\u001b[0;34m\u001b[0m\u001b[0m\n\u001b[1;32m   3827\u001b[0m         \"\"\"\n\u001b[0;32m-> 3828\u001b[0;31m         \u001b[0mnew_values\u001b[0m \u001b[0;34m=\u001b[0m \u001b[0msuper\u001b[0m\u001b[0;34m(\u001b[0m\u001b[0;34m)\u001b[0m\u001b[0;34m.\u001b[0m\u001b[0m_map_values\u001b[0m\u001b[0;34m(\u001b[0m\u001b[0marg\u001b[0m\u001b[0;34m,\u001b[0m \u001b[0mna_action\u001b[0m\u001b[0;34m=\u001b[0m\u001b[0mna_action\u001b[0m\u001b[0;34m)\u001b[0m\u001b[0;34m\u001b[0m\u001b[0;34m\u001b[0m\u001b[0m\n\u001b[0m\u001b[1;32m   3829\u001b[0m         \u001b[0;32mreturn\u001b[0m \u001b[0mself\u001b[0m\u001b[0;34m.\u001b[0m\u001b[0m_constructor\u001b[0m\u001b[0;34m(\u001b[0m\u001b[0mnew_values\u001b[0m\u001b[0;34m,\u001b[0m \u001b[0mindex\u001b[0m\u001b[0;34m=\u001b[0m\u001b[0mself\u001b[0m\u001b[0;34m.\u001b[0m\u001b[0mindex\u001b[0m\u001b[0;34m)\u001b[0m\u001b[0;34m.\u001b[0m\u001b[0m__finalize__\u001b[0m\u001b[0;34m(\u001b[0m\u001b[0mself\u001b[0m\u001b[0;34m)\u001b[0m\u001b[0;34m\u001b[0m\u001b[0;34m\u001b[0m\u001b[0m\n\u001b[1;32m   3830\u001b[0m \u001b[0;34m\u001b[0m\u001b[0m\n",
      "\u001b[0;32m~/miniconda3/envs/PythonData/lib/python3.6/site-packages/pandas/core/base.py\u001b[0m in \u001b[0;36m_map_values\u001b[0;34m(self, mapper, na_action)\u001b[0m\n\u001b[1;32m   1298\u001b[0m \u001b[0;34m\u001b[0m\u001b[0m\n\u001b[1;32m   1299\u001b[0m         \u001b[0;31m# mapper is a function\u001b[0m\u001b[0;34m\u001b[0m\u001b[0;34m\u001b[0m\u001b[0;34m\u001b[0m\u001b[0m\n\u001b[0;32m-> 1300\u001b[0;31m         \u001b[0mnew_values\u001b[0m \u001b[0;34m=\u001b[0m \u001b[0mmap_f\u001b[0m\u001b[0;34m(\u001b[0m\u001b[0mvalues\u001b[0m\u001b[0;34m,\u001b[0m \u001b[0mmapper\u001b[0m\u001b[0;34m)\u001b[0m\u001b[0;34m\u001b[0m\u001b[0;34m\u001b[0m\u001b[0m\n\u001b[0m\u001b[1;32m   1301\u001b[0m \u001b[0;34m\u001b[0m\u001b[0m\n\u001b[1;32m   1302\u001b[0m         \u001b[0;32mreturn\u001b[0m \u001b[0mnew_values\u001b[0m\u001b[0;34m\u001b[0m\u001b[0;34m\u001b[0m\u001b[0m\n",
      "\u001b[0;32mpandas/_libs/lib.pyx\u001b[0m in \u001b[0;36mpandas._libs.lib.map_infer\u001b[0;34m()\u001b[0m\n",
      "\u001b[0;32m<ipython-input-29-4a39e61fca33>\u001b[0m in \u001b[0;36mremove_dict\u001b[0;34m(sample)\u001b[0m\n\u001b[1;32m      3\u001b[0m \u001b[0;32mdef\u001b[0m \u001b[0mremove_dict\u001b[0m\u001b[0;34m(\u001b[0m\u001b[0msample\u001b[0m\u001b[0;34m)\u001b[0m\u001b[0;34m:\u001b[0m\u001b[0;34m\u001b[0m\u001b[0;34m\u001b[0m\u001b[0m\n\u001b[1;32m      4\u001b[0m     \u001b[0msample_dict\u001b[0m \u001b[0;34m=\u001b[0m \u001b[0mast\u001b[0m\u001b[0;34m.\u001b[0m\u001b[0mliteral_eval\u001b[0m\u001b[0;34m(\u001b[0m\u001b[0mstr\u001b[0m\u001b[0;34m(\u001b[0m\u001b[0msample\u001b[0m\u001b[0;34m)\u001b[0m\u001b[0;34m)\u001b[0m\u001b[0;34m\u001b[0m\u001b[0;34m\u001b[0m\u001b[0m\n\u001b[0;32m----> 5\u001b[0;31m     \u001b[0;32mreturn\u001b[0m \u001b[0msample_dict\u001b[0m\u001b[0;34m[\u001b[0m\u001b[0;34m'upper_bound'\u001b[0m\u001b[0;34m]\u001b[0m\u001b[0;34m\u001b[0m\u001b[0;34m\u001b[0m\u001b[0m\n\u001b[0m\u001b[1;32m      6\u001b[0m \u001b[0mad_df\u001b[0m\u001b[0;34m[\u001b[0m\u001b[0;34m'Impressions'\u001b[0m\u001b[0;34m]\u001b[0m \u001b[0;34m=\u001b[0m \u001b[0mad_df\u001b[0m\u001b[0;34m[\u001b[0m\u001b[0;34m'Impressions'\u001b[0m\u001b[0;34m]\u001b[0m\u001b[0;34m.\u001b[0m\u001b[0mmap\u001b[0m\u001b[0;34m(\u001b[0m\u001b[0mremove_dict\u001b[0m\u001b[0;34m)\u001b[0m\u001b[0;34m\u001b[0m\u001b[0;34m\u001b[0m\u001b[0m\n\u001b[1;32m      7\u001b[0m \u001b[0mad_df\u001b[0m\u001b[0;34m[\u001b[0m\u001b[0;34m'AdSpending'\u001b[0m\u001b[0;34m]\u001b[0m \u001b[0;34m=\u001b[0m \u001b[0mad_df\u001b[0m\u001b[0;34m[\u001b[0m\u001b[0;34m'AdSpending'\u001b[0m\u001b[0;34m]\u001b[0m\u001b[0;34m.\u001b[0m\u001b[0mmap\u001b[0m\u001b[0;34m(\u001b[0m\u001b[0mremove_dict\u001b[0m\u001b[0;34m)\u001b[0m\u001b[0;34m\u001b[0m\u001b[0;34m\u001b[0m\u001b[0m\n",
      "\u001b[0;31mTypeError\u001b[0m: 'int' object is not subscriptable"
     ]
    }
   ],
   "source": [
    "# change upper/lower bound data entries to just upper_bound value\n",
    "def remove_dict(sample):\n",
    "    sample_dict = ast.literal_eval(str(sample))\n",
    "    return sample_dict['upper_bound']\n",
    "ad_df['Impressions'] = ad_df['Impressions'].map(remove_dict)\n",
    "ad_df['AdSpending'] = ad_df['AdSpending'].map(remove_dict)"
   ]
  },
  {
   "cell_type": "code",
   "execution_count": 31,
   "metadata": {},
   "outputs": [
    {
     "output_type": "execute_result",
     "data": {
      "text/plain": "              AdID                                              AdURL  \\\n0  161547868597338  https://www.facebook.com/ads/archive/render_ad...   \n1  231634031267946  https://www.facebook.com/ads/archive/render_ad...   \n2  233098731244956  https://www.facebook.com/ads/archive/render_ad...   \n3  246740140011738  https://www.facebook.com/ads/archive/render_ad...   \n4  290585385271290  https://www.facebook.com/ads/archive/render_ad...   \n\n              AdText             HostedPage Impressions Currency AdSpending  \n0  {{product.brand}}  Vote Yes for Fair Tax        4999      USD        199  \n1  {{product.brand}}  Vote Yes for Fair Tax        5999      USD        199  \n2  {{product.brand}}  Vote Yes for Fair Tax        8999      USD        199  \n3  {{product.brand}}  Vote Yes for Fair Tax        6999      USD        199  \n4  {{product.brand}}  Vote Yes for Fair Tax        4999      USD         99  ",
      "text/html": "<div>\n<style scoped>\n    .dataframe tbody tr th:only-of-type {\n        vertical-align: middle;\n    }\n\n    .dataframe tbody tr th {\n        vertical-align: top;\n    }\n\n    .dataframe thead th {\n        text-align: right;\n    }\n</style>\n<table border=\"1\" class=\"dataframe\">\n  <thead>\n    <tr style=\"text-align: right;\">\n      <th></th>\n      <th>AdID</th>\n      <th>AdURL</th>\n      <th>AdText</th>\n      <th>HostedPage</th>\n      <th>Impressions</th>\n      <th>Currency</th>\n      <th>AdSpending</th>\n    </tr>\n  </thead>\n  <tbody>\n    <tr>\n      <th>0</th>\n      <td>161547868597338</td>\n      <td>https://www.facebook.com/ads/archive/render_ad...</td>\n      <td>{{product.brand}}</td>\n      <td>Vote Yes for Fair Tax</td>\n      <td>4999</td>\n      <td>USD</td>\n      <td>199</td>\n    </tr>\n    <tr>\n      <th>1</th>\n      <td>231634031267946</td>\n      <td>https://www.facebook.com/ads/archive/render_ad...</td>\n      <td>{{product.brand}}</td>\n      <td>Vote Yes for Fair Tax</td>\n      <td>5999</td>\n      <td>USD</td>\n      <td>199</td>\n    </tr>\n    <tr>\n      <th>2</th>\n      <td>233098731244956</td>\n      <td>https://www.facebook.com/ads/archive/render_ad...</td>\n      <td>{{product.brand}}</td>\n      <td>Vote Yes for Fair Tax</td>\n      <td>8999</td>\n      <td>USD</td>\n      <td>199</td>\n    </tr>\n    <tr>\n      <th>3</th>\n      <td>246740140011738</td>\n      <td>https://www.facebook.com/ads/archive/render_ad...</td>\n      <td>{{product.brand}}</td>\n      <td>Vote Yes for Fair Tax</td>\n      <td>6999</td>\n      <td>USD</td>\n      <td>199</td>\n    </tr>\n    <tr>\n      <th>4</th>\n      <td>290585385271290</td>\n      <td>https://www.facebook.com/ads/archive/render_ad...</td>\n      <td>{{product.brand}}</td>\n      <td>Vote Yes for Fair Tax</td>\n      <td>4999</td>\n      <td>USD</td>\n      <td>99</td>\n    </tr>\n  </tbody>\n</table>\n</div>"
     },
     "metadata": {},
     "execution_count": 31
    }
   ],
   "source": [
    "ad_df.head()"
   ]
  },
  {
   "cell_type": "code",
   "execution_count": 6,
   "metadata": {},
   "outputs": [
    {
     "output_type": "stream",
     "name": "stderr",
     "text": "WARNING:absl:TFDS datasets with text encoding are deprecated and will be removed in a future version. Instead, you should use the plain text version and tokenize the text using `tensorflow_text` (See: https://www.tensorflow.org/tutorials/tensorflow_text/intro#tfdata_example)\n"
    }
   ],
   "source": [
    "#load the imdb dataset for the positivity tokenizer\n",
    "dataset, info = tfds.load('imdb_reviews/subwords8k', with_info=True, as_supervised=True)\n",
    "imdb_tokenizer = info.features['text'].encoder\n"
   ]
  },
  {
   "cell_type": "code",
   "execution_count": 8,
   "metadata": {},
   "outputs": [
    {
     "output_type": "execute_result",
     "data": {
      "text/plain": "['../ml_settings/positivity_rnn.h5',\n '../ml_settings/identity_attack_rnn.h5',\n '../ml_settings/insult_rnn.h5',\n '../ml_settings/toxicity_rnn.h5']"
     },
     "metadata": {},
     "execution_count": 8
    }
   ],
   "source": [
    "#load model for toxicity\n",
    "ad_features = ['positivity','identityAttack', 'insult', 'toxicity']\n",
    "model_files = [f'../ml_settings/{feature}_rnn.h5' for feature in ad_features]\n",
    "model_files"
   ]
  },
  {
   "cell_type": "code",
   "execution_count": 38,
   "metadata": {},
   "outputs": [],
   "source": [
    "model = tf.keras.models.load_model('../ml_settings/toxicity_rnn.h5')"
   ]
  },
  {
   "cell_type": "code",
   "execution_count": null,
   "metadata": {},
   "outputs": [],
   "source": [
    "#function to return a ML prediction from text\n",
    "def sample_predict(sample_pred_text, pad=True):\n",
    "  encoded_sample_pred_text = tokenizer.encode(sample_pred_text) #encode sample\n",
    "\n",
    "  if pad: #pads length with 0s to 64 entries if shorter than 64 entries\n",
    "    encoded_sample_pred_text = pad_to_size(encoded_sample_pred_text, 64)\n",
    "  encoded_sample_pred_text = tf.cast(encoded_sample_pred_text, tf.float32)\n",
    "  predictions = model.predict(tf.expand_dims(encoded_sample_pred_text, 0))\n",
    "\n",
    "  return (predictions)\n",
    "\n",
    "# mapping function for the \n",
    "def binary_label(prediction):\n",
    "    if prediction >= 0.5:\n",
    "        return 1\n",
    "    return 0"
   ]
  },
  {
   "cell_type": "code",
   "execution_count": 36,
   "metadata": {},
   "outputs": [
    {
     "output_type": "stream",
     "name": "stdout",
     "text": "positivity\n"
    },
    {
     "output_type": "error",
     "ename": "KeyError",
     "evalue": "'sample_weight_mode'",
     "traceback": [
      "\u001b[0;31m---------------------------------------------------------------------------\u001b[0m",
      "\u001b[0;31mKeyError\u001b[0m                                  Traceback (most recent call last)",
      "\u001b[0;32m<ipython-input-36-d78d0164735c>\u001b[0m in \u001b[0;36m<module>\u001b[0;34m\u001b[0m\n\u001b[1;32m      8\u001b[0m         \u001b[0mtokenizer\u001b[0m \u001b[0;34m=\u001b[0m \u001b[0mtfds\u001b[0m\u001b[0;34m.\u001b[0m\u001b[0mfeatures\u001b[0m\u001b[0;34m.\u001b[0m\u001b[0mtext\u001b[0m\u001b[0;34m.\u001b[0m\u001b[0mSubwordTextEncoder\u001b[0m\u001b[0;34m.\u001b[0m\u001b[0mload_from_file\u001b[0m\u001b[0;34m(\u001b[0m\u001b[0;34m'../ml_settings/large_tokenizer.subwords'\u001b[0m\u001b[0;34m)\u001b[0m\u001b[0;34m\u001b[0m\u001b[0;34m\u001b[0m\u001b[0m\n\u001b[1;32m      9\u001b[0m     \u001b[0;31m#load model\u001b[0m\u001b[0;34m\u001b[0m\u001b[0;34m\u001b[0m\u001b[0;34m\u001b[0m\u001b[0m\n\u001b[0;32m---> 10\u001b[0;31m     \u001b[0mmodel\u001b[0m \u001b[0;34m=\u001b[0m \u001b[0mtf\u001b[0m\u001b[0;34m.\u001b[0m\u001b[0mkeras\u001b[0m\u001b[0;34m.\u001b[0m\u001b[0mmodels\u001b[0m\u001b[0;34m.\u001b[0m\u001b[0mload_model\u001b[0m\u001b[0;34m(\u001b[0m\u001b[0;34mf'../ml_settings/{feature}_rnn.h5'\u001b[0m\u001b[0;34m)\u001b[0m\u001b[0;34m\u001b[0m\u001b[0;34m\u001b[0m\u001b[0m\n\u001b[0m\u001b[1;32m     11\u001b[0m \u001b[0;34m\u001b[0m\u001b[0m\n\u001b[1;32m     12\u001b[0m     \u001b[0;31m#map predictions to new column\u001b[0m\u001b[0;34m\u001b[0m\u001b[0;34m\u001b[0m\u001b[0;34m\u001b[0m\u001b[0m\n",
      "\u001b[0;32m~/miniconda3/envs/PythonData/lib/python3.6/site-packages/tensorflow_core/python/keras/saving/save.py\u001b[0m in \u001b[0;36mload_model\u001b[0;34m(filepath, custom_objects, compile)\u001b[0m\n\u001b[1;32m    144\u001b[0m   if (h5py is not None and (\n\u001b[1;32m    145\u001b[0m       isinstance(filepath, h5py.File) or h5py.is_hdf5(filepath))):\n\u001b[0;32m--> 146\u001b[0;31m     \u001b[0;32mreturn\u001b[0m \u001b[0mhdf5_format\u001b[0m\u001b[0;34m.\u001b[0m\u001b[0mload_model_from_hdf5\u001b[0m\u001b[0;34m(\u001b[0m\u001b[0mfilepath\u001b[0m\u001b[0;34m,\u001b[0m \u001b[0mcustom_objects\u001b[0m\u001b[0;34m,\u001b[0m \u001b[0mcompile\u001b[0m\u001b[0;34m)\u001b[0m\u001b[0;34m\u001b[0m\u001b[0;34m\u001b[0m\u001b[0m\n\u001b[0m\u001b[1;32m    147\u001b[0m \u001b[0;34m\u001b[0m\u001b[0m\n\u001b[1;32m    148\u001b[0m   \u001b[0;32mif\u001b[0m \u001b[0misinstance\u001b[0m\u001b[0;34m(\u001b[0m\u001b[0mfilepath\u001b[0m\u001b[0;34m,\u001b[0m \u001b[0msix\u001b[0m\u001b[0;34m.\u001b[0m\u001b[0mstring_types\u001b[0m\u001b[0;34m)\u001b[0m\u001b[0;34m:\u001b[0m\u001b[0;34m\u001b[0m\u001b[0;34m\u001b[0m\u001b[0m\n",
      "\u001b[0;32m~/miniconda3/envs/PythonData/lib/python3.6/site-packages/tensorflow_core/python/keras/saving/hdf5_format.py\u001b[0m in \u001b[0;36mload_model_from_hdf5\u001b[0;34m(filepath, custom_objects, compile)\u001b[0m\n\u001b[1;32m    182\u001b[0m       \u001b[0;31m# Compile model.\u001b[0m\u001b[0;34m\u001b[0m\u001b[0;34m\u001b[0m\u001b[0;34m\u001b[0m\u001b[0m\n\u001b[1;32m    183\u001b[0m       model.compile(**saving_utils.compile_args_from_training_config(\n\u001b[0;32m--> 184\u001b[0;31m           training_config, custom_objects))\n\u001b[0m\u001b[1;32m    185\u001b[0m \u001b[0;34m\u001b[0m\u001b[0m\n\u001b[1;32m    186\u001b[0m       \u001b[0;31m# Set optimizer weights.\u001b[0m\u001b[0;34m\u001b[0m\u001b[0;34m\u001b[0m\u001b[0;34m\u001b[0m\u001b[0m\n",
      "\u001b[0;32m~/miniconda3/envs/PythonData/lib/python3.6/site-packages/tensorflow_core/python/keras/saving/saving_utils.py\u001b[0m in \u001b[0;36mcompile_args_from_training_config\u001b[0;34m(training_config, custom_objects)\u001b[0m\n\u001b[1;32m    240\u001b[0m       \u001b[0;32mlambda\u001b[0m \u001b[0mobj\u001b[0m\u001b[0;34m:\u001b[0m \u001b[0mcustom_objects\u001b[0m\u001b[0;34m.\u001b[0m\u001b[0mget\u001b[0m\u001b[0;34m(\u001b[0m\u001b[0mobj\u001b[0m\u001b[0;34m,\u001b[0m \u001b[0mobj\u001b[0m\u001b[0;34m)\u001b[0m\u001b[0;34m,\u001b[0m\u001b[0;34m\u001b[0m\u001b[0;34m\u001b[0m\u001b[0m\n\u001b[1;32m    241\u001b[0m       training_config.get('weighted_metrics', None))\n\u001b[0;32m--> 242\u001b[0;31m   \u001b[0msample_weight_mode\u001b[0m \u001b[0;34m=\u001b[0m \u001b[0mtraining_config\u001b[0m\u001b[0;34m[\u001b[0m\u001b[0;34m'sample_weight_mode'\u001b[0m\u001b[0;34m]\u001b[0m\u001b[0;34m\u001b[0m\u001b[0;34m\u001b[0m\u001b[0m\n\u001b[0m\u001b[1;32m    243\u001b[0m   \u001b[0mloss_weights\u001b[0m \u001b[0;34m=\u001b[0m \u001b[0mtraining_config\u001b[0m\u001b[0;34m[\u001b[0m\u001b[0;34m'loss_weights'\u001b[0m\u001b[0;34m]\u001b[0m\u001b[0;34m\u001b[0m\u001b[0;34m\u001b[0m\u001b[0m\n\u001b[1;32m    244\u001b[0m \u001b[0;34m\u001b[0m\u001b[0m\n",
      "\u001b[0;31mKeyError\u001b[0m: 'sample_weight_mode'"
     ]
    }
   ],
   "source": [
    "#loop for each of the ad feature models\n",
    "for feature in ad_features:\n",
    "    #set specific tokenizer if doing positivity predictions\n",
    "    print(feature)\n",
    "    if feature == 'positivity':\n",
    "        tokenizer = imdb_tokenizer\n",
    "    else:\n",
    "        tokenizer = tfds.features.text.SubwordTextEncoder.load_from_file('../ml_settings/large_tokenizer.subwords')\n",
    "    #load model\n",
    "    model = tf.keras.models.load_model(f'../ml_settings/{feature}_rnn.h5')\n",
    "\n",
    "    #map predictions to new column\n",
    "    ad_df[feature] = ad_df['AdText'].map(lambda x: binary_label(sample_predict(x)))\n",
    "    "
   ]
  },
  {
   "cell_type": "code",
   "execution_count": null,
   "metadata": {},
   "outputs": [],
   "source": []
  }
 ],
 "metadata": {
  "language_info": {
   "codemirror_mode": {
    "name": "ipython",
    "version": 3
   },
   "file_extension": ".py",
   "mimetype": "text/x-python",
   "name": "python",
   "nbconvert_exporter": "python",
   "pygments_lexer": "ipython3",
   "version": 3
  },
  "orig_nbformat": 2,
  "kernelspec": {
   "name": "python36764bitpythondatacondac93f1d0824da4ea88fdc3c2e1b2950d1",
   "display_name": "Python 3.6.7 64-bit ('PythonData': conda)"
  }
 },
 "nbformat": 4,
 "nbformat_minor": 2
}